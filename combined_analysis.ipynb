{
 "cells": [
  {
   "cell_type": "markdown",
   "id": "575b3a42",
   "metadata": {},
   "source": [
    "## Data Preprocessing, Cleaning, and Combining\n",
    "Gather the data from Strava, Samsung, and Apple and merge them together into one DataFrame"
   ]
  },
  {
   "cell_type": "code",
   "execution_count": 1,
   "id": "0ab1e33e",
   "metadata": {},
   "outputs": [],
   "source": [
    "import os\n",
    "import sys\n",
    "import pandas as pd\n",
    "import numpy as np\n",
    "import matplotlib.pyplot as plt\n",
    "import matplotlib.dates as mdates\n",
    "import seaborn as sns"
   ]
  },
  {
   "cell_type": "code",
   "execution_count": 2,
   "id": "330f2d5a",
   "metadata": {},
   "outputs": [
    {
     "name": "stdout",
     "output_type": "stream",
     "text": [
      "Successfully imported all data processing modules.\n"
     ]
    }
   ],
   "source": [
    "# Add the paths to the different data source scripts to the system path\n",
    "# so we can import them as modules.\n",
    "apple_path = os.path.abspath('./apple_health_export')\n",
    "strava_path = os.path.abspath('./strava')\n",
    "samsung_path = os.path.abspath('./samsung_data')\n",
    "\n",
    "if apple_path not in sys.path:\n",
    "    sys.path.append(apple_path)\n",
    "if strava_path not in sys.path:\n",
    "    sys.path.append(strava_path)\n",
    "if samsung_path not in sys.path:\n",
    "    sys.path.append(samsung_path)\n",
    "\n",
    "# Import the organisation and feature engineering functions from each script\n",
    "try:\n",
    "    from apple_health_export.organise import parse_apple_health_xml, organise_apple_health_data, engineer_activity_features as engineer_apple_features\n",
    "    from strava.organise import organise_strava_data, engineer_activity_features as engineer_strava_features\n",
    "    from samsung_data.organise import organise_samsung_data, engineer_activity_features as engineer_samsung_features\n",
    "    print(\"Successfully imported all data processing modules.\")\n",
    "except ImportError as e:\n",
    "    print(f\"Error importing modules: {e}\")\n",
    "    print(\"Please ensure the 'organise.py' files exist in the correct directories.\")"
   ]
  },
  {
   "cell_type": "code",
   "execution_count": 3,
   "id": "a1549fc7",
   "metadata": {},
   "outputs": [
    {
     "name": "stdout",
     "output_type": "stream",
     "text": [
      "\n",
      "=========================\n",
      "Processing Apple Health Data\n",
      "=========================\n",
      "Parsing and filtering data from export.xml...\n",
      "Found 132 total workouts. After filtering, processing 17 activities.\n",
      "Found 76831 heart rate records, 48873 distance records, and 100928 active energy records.\n",
      "Found 103 workout routes.\n",
      "\n",
      "Saved filtered workouts and associated health records to 'output' directory.\n",
      "\n",
      "Reading pre-processed data from CSV files...\n",
      "Successfully loaded CSV data.\n",
      "\n",
      "Merging workouts with nearest workout routes...\n",
      "\n",
      "Processing 17 workouts...\n",
      "\n",
      "Processing Activity ID: 20250402_172711 (HKWorkoutActivityTypeRunning)\n",
      "  - Found GPX file. Reading and cleaning...\n"
     ]
    },
    {
     "name": "stderr",
     "output_type": "stream",
     "text": [
      "/mnt/c/Users/agust/marathon-data/apple_health_export/organise.py:63: FutureWarning: Downcasting object dtype arrays on .fillna, .ffill, .bfill is deprecated and will change in a future version. Call result.infer_objects(copy=False) instead. To opt-in to the future behavior, set `pd.set_option('future.no_silent_downcasting', True)`\n",
      "  df['pace_min_per_km'] = df['pace_min_per_km'].ffill().bfill()\n"
     ]
    },
    {
     "name": "stdout",
     "output_type": "stream",
     "text": [
      "  - Merging 540 heart rate points into track data.\n",
      "\n",
      "Processing Activity ID: 20250403_083841 (HKWorkoutActivityTypeRunning)\n",
      "  - Found GPX file. Reading and cleaning...\n"
     ]
    },
    {
     "name": "stderr",
     "output_type": "stream",
     "text": [
      "/mnt/c/Users/agust/marathon-data/apple_health_export/organise.py:63: FutureWarning: Downcasting object dtype arrays on .fillna, .ffill, .bfill is deprecated and will change in a future version. Call result.infer_objects(copy=False) instead. To opt-in to the future behavior, set `pd.set_option('future.no_silent_downcasting', True)`\n",
      "  df['pace_min_per_km'] = df['pace_min_per_km'].ffill().bfill()\n"
     ]
    },
    {
     "name": "stdout",
     "output_type": "stream",
     "text": [
      "  - Merging 1131 heart rate points into track data.\n",
      "\n",
      "Processing Activity ID: 20250404_102550 (HKWorkoutActivityTypeRunning)\n",
      "  - Found GPX file. Reading and cleaning...\n",
      "  - Merging 439 heart rate points into track data.\n",
      "\n",
      "Processing Activity ID: 20250406_113837 (HKWorkoutActivityTypeRunning)\n",
      "  - Found GPX file. Reading and cleaning...\n"
     ]
    },
    {
     "name": "stderr",
     "output_type": "stream",
     "text": [
      "/mnt/c/Users/agust/marathon-data/apple_health_export/organise.py:63: FutureWarning: Downcasting object dtype arrays on .fillna, .ffill, .bfill is deprecated and will change in a future version. Call result.infer_objects(copy=False) instead. To opt-in to the future behavior, set `pd.set_option('future.no_silent_downcasting', True)`\n",
      "  df['pace_min_per_km'] = df['pace_min_per_km'].ffill().bfill()\n"
     ]
    },
    {
     "name": "stdout",
     "output_type": "stream",
     "text": [
      "  - Merging 2558 heart rate points into track data.\n",
      "\n",
      "Processing Activity ID: 20250408_164740 (HKWorkoutActivityTypeRunning)\n",
      "  - Found GPX file. Reading and cleaning...\n",
      "  - Merging 271 heart rate points into track data.\n",
      "\n",
      "Processing Activity ID: 20250412_125042 (HKWorkoutActivityTypeRunning)\n",
      "  - Found GPX file. Reading and cleaning...\n",
      "  - Merging 355 heart rate points into track data.\n",
      "\n",
      "Processing Activity ID: 20250415_171420 (HKWorkoutActivityTypeRunning)\n",
      "  - Found GPX file. Reading and cleaning...\n"
     ]
    },
    {
     "name": "stderr",
     "output_type": "stream",
     "text": [
      "/mnt/c/Users/agust/marathon-data/apple_health_export/organise.py:63: FutureWarning: Downcasting object dtype arrays on .fillna, .ffill, .bfill is deprecated and will change in a future version. Call result.infer_objects(copy=False) instead. To opt-in to the future behavior, set `pd.set_option('future.no_silent_downcasting', True)`\n",
      "  df['pace_min_per_km'] = df['pace_min_per_km'].ffill().bfill()\n"
     ]
    },
    {
     "name": "stdout",
     "output_type": "stream",
     "text": [
      "  - Merging 618 heart rate points into track data.\n",
      "\n",
      "Processing Activity ID: 20250416_142605 (HKWorkoutActivityTypeRunning)\n",
      "  - Found GPX file. Reading and cleaning...\n"
     ]
    },
    {
     "name": "stderr",
     "output_type": "stream",
     "text": [
      "/mnt/c/Users/agust/marathon-data/apple_health_export/organise.py:63: FutureWarning: Downcasting object dtype arrays on .fillna, .ffill, .bfill is deprecated and will change in a future version. Call result.infer_objects(copy=False) instead. To opt-in to the future behavior, set `pd.set_option('future.no_silent_downcasting', True)`\n",
      "  df['pace_min_per_km'] = df['pace_min_per_km'].ffill().bfill()\n"
     ]
    },
    {
     "name": "stdout",
     "output_type": "stream",
     "text": [
      "  - Merging 735 heart rate points into track data.\n",
      "\n",
      "Processing Activity ID: 20250417_161448 (HKWorkoutActivityTypeRunning)\n",
      "  - Found GPX file. Reading and cleaning...\n",
      "  - Merging 385 heart rate points into track data.\n",
      "\n",
      "Processing Activity ID: 20250419_131954 (HKWorkoutActivityTypeRunning)\n",
      "  - Found GPX file. Reading and cleaning...\n"
     ]
    },
    {
     "name": "stderr",
     "output_type": "stream",
     "text": [
      "/mnt/c/Users/agust/marathon-data/apple_health_export/organise.py:63: FutureWarning: Downcasting object dtype arrays on .fillna, .ffill, .bfill is deprecated and will change in a future version. Call result.infer_objects(copy=False) instead. To opt-in to the future behavior, set `pd.set_option('future.no_silent_downcasting', True)`\n",
      "  df['pace_min_per_km'] = df['pace_min_per_km'].ffill().bfill()\n"
     ]
    },
    {
     "name": "stdout",
     "output_type": "stream",
     "text": [
      "  - Merging 1261 heart rate points into track data.\n",
      "\n",
      "Processing Activity ID: 20250422_152837 (HKWorkoutActivityTypeRunning)\n",
      "  - Found GPX file. Reading and cleaning...\n"
     ]
    },
    {
     "name": "stderr",
     "output_type": "stream",
     "text": [
      "/mnt/c/Users/agust/marathon-data/apple_health_export/organise.py:63: FutureWarning: Downcasting object dtype arrays on .fillna, .ffill, .bfill is deprecated and will change in a future version. Call result.infer_objects(copy=False) instead. To opt-in to the future behavior, set `pd.set_option('future.no_silent_downcasting', True)`\n",
      "  df['pace_min_per_km'] = df['pace_min_per_km'].ffill().bfill()\n"
     ]
    },
    {
     "name": "stdout",
     "output_type": "stream",
     "text": [
      "  - Merging 281 heart rate points into track data.\n",
      "\n",
      "Processing Activity ID: 20250423_120655 (HKWorkoutActivityTypeRunning)\n",
      "  - Found GPX file. Reading and cleaning...\n"
     ]
    },
    {
     "name": "stderr",
     "output_type": "stream",
     "text": [
      "/mnt/c/Users/agust/marathon-data/apple_health_export/organise.py:63: FutureWarning: Downcasting object dtype arrays on .fillna, .ffill, .bfill is deprecated and will change in a future version. Call result.infer_objects(copy=False) instead. To opt-in to the future behavior, set `pd.set_option('future.no_silent_downcasting', True)`\n",
      "  df['pace_min_per_km'] = df['pace_min_per_km'].ffill().bfill()\n",
      "/mnt/c/Users/agust/marathon-data/apple_health_export/organise.py:63: FutureWarning: Downcasting object dtype arrays on .fillna, .ffill, .bfill is deprecated and will change in a future version. Call result.infer_objects(copy=False) instead. To opt-in to the future behavior, set `pd.set_option('future.no_silent_downcasting', True)`\n",
      "  df['pace_min_per_km'] = df['pace_min_per_km'].ffill().bfill()\n"
     ]
    },
    {
     "name": "stdout",
     "output_type": "stream",
     "text": [
      "  - Merging 308 heart rate points into track data.\n",
      "\n",
      "Processing Activity ID: 20250424_094646 (HKWorkoutActivityTypeRunning)\n",
      "  - Found GPX file. Reading and cleaning...\n",
      "  - Merging 182 heart rate points into track data.\n",
      "\n",
      "Processing Activity ID: 20250427_094029 (HKWorkoutActivityTypeRunning)\n",
      "  - Found GPX file. Reading and cleaning...\n",
      "  - Merging 3397 heart rate points into track data.\n",
      "\n",
      "Processing Activity ID: 20250505_110758 (HKWorkoutActivityTypeRunning)\n",
      "  - Found GPX file. Reading and cleaning...\n",
      "  - Merging 46 heart rate points into track data.\n",
      "\n",
      "Processing Activity ID: 20250609_133258 (HKWorkoutActivityTypeRunning)\n",
      "  - No route/GPX file associated with this workout.\n",
      "\n",
      "Processing Activity ID: 20250616_140119 (HKWorkoutActivityTypeRunning)\n",
      "  - No route/GPX file associated with this workout.\n",
      "\n",
      "Processing complete.\n",
      "Successfully processed 17 activities from Apple Health.\n"
     ]
    },
    {
     "name": "stderr",
     "output_type": "stream",
     "text": [
      "/mnt/c/Users/agust/marathon-data/apple_health_export/organise.py:63: FutureWarning: Downcasting object dtype arrays on .fillna, .ffill, .bfill is deprecated and will change in a future version. Call result.infer_objects(copy=False) instead. To opt-in to the future behavior, set `pd.set_option('future.no_silent_downcasting', True)`\n",
      "  df['pace_min_per_km'] = df['pace_min_per_km'].ffill().bfill()\n"
     ]
    }
   ],
   "source": [
    "# --- 1. Process Apple Health Data ---\n",
    "print(\"\\n\" + \"=\"*25)\n",
    "print(\"Processing Apple Health Data\")\n",
    "print(\"=\"*25)\n",
    "try:\n",
    "    # Apple Health requires a two-step process: parse XML, then organise from the generated CSVs\n",
    "    xml_file_path = os.path.join(apple_path, 'export.xml')\n",
    "    if os.path.exists(xml_file_path):\n",
    "        parse_apple_health_xml(xml_file_path)\n",
    "        apple_data = organise_apple_health_data(apple_path)\n",
    "        for activity_id, activity_data in apple_data.items():\n",
    "            if activity_data.get('track_data') is not None:\n",
    "                features = engineer_apple_features(activity_data['track_data'])\n",
    "                activity_data['metadata'].update(features)\n",
    "        \n",
    "        apple_metadata = [d['metadata'] for d in apple_data.values()]\n",
    "        apple_df = pd.DataFrame(apple_metadata)\n",
    "        apple_df['Source'] = 'Apple Health'\n",
    "        print(f\"Successfully processed {len(apple_df)} activities from Apple Health.\")\n",
    "    else:\n",
    "        print(\"export.xml not found. Skipping Apple Health.\")\n",
    "        apple_df = pd.DataFrame()\n",
    "except Exception as e:\n",
    "    print(f\"Could not process Apple Health data: {e}\")\n",
    "    apple_df = pd.DataFrame()"
   ]
  },
  {
   "cell_type": "code",
   "execution_count": 4,
   "id": "cac79e02",
   "metadata": {},
   "outputs": [
    {
     "name": "stdout",
     "output_type": "stream",
     "text": [
      "\n",
      "=========================\n",
      "Processing Strava Data\n",
      "=========================\n",
      "Found 73 activities in activities.csv. Processing...\n",
      "\n",
      "Processing Activity ID: 10024634662 (Run)\n",
      "  - Expected GPX file path: /mnt/c/Users/agust/marathon-data/strava/strava-data/activities/10024634662.gpx\n",
      "  - Found file: activities/10024634662.gpx. Reading and cleaning...\n"
     ]
    },
    {
     "name": "stderr",
     "output_type": "stream",
     "text": [
      "/mnt/c/Users/agust/marathon-data/strava/organise.py:71: FutureWarning: Downcasting object dtype arrays on .fillna, .ffill, .bfill is deprecated and will change in a future version. Call result.infer_objects(copy=False) instead. To opt-in to the future behavior, set `pd.set_option('future.no_silent_downcasting', True)`\n",
      "  df['pace_min_per_km'] = df['pace_min_per_km'].ffill().bfill()\n",
      "/mnt/c/Users/agust/marathon-data/strava/organise.py:71: FutureWarning: Downcasting object dtype arrays on .fillna, .ffill, .bfill is deprecated and will change in a future version. Call result.infer_objects(copy=False) instead. To opt-in to the future behavior, set `pd.set_option('future.no_silent_downcasting', True)`\n",
      "  df['pace_min_per_km'] = df['pace_min_per_km'].ffill().bfill()\n"
     ]
    },
    {
     "name": "stdout",
     "output_type": "stream",
     "text": [
      "\n",
      "Processing Activity ID: 10182373857 (Run)\n",
      "  - Expected GPX file path: /mnt/c/Users/agust/marathon-data/strava/strava-data/activities/10182373857.gpx\n",
      "  - Found file: activities/10182373857.gpx. Reading and cleaning...\n",
      "\n",
      "Processing Activity ID: 11233627862 (Run)\n",
      "  - Expected GPX file path: /mnt/c/Users/agust/marathon-data/strava/strava-data/activities/11233627862.gpx\n",
      "  - Found file: activities/11233627862.gpx. Reading and cleaning...\n"
     ]
    },
    {
     "name": "stderr",
     "output_type": "stream",
     "text": [
      "/mnt/c/Users/agust/marathon-data/strava/organise.py:71: FutureWarning: Downcasting object dtype arrays on .fillna, .ffill, .bfill is deprecated and will change in a future version. Call result.infer_objects(copy=False) instead. To opt-in to the future behavior, set `pd.set_option('future.no_silent_downcasting', True)`\n",
      "  df['pace_min_per_km'] = df['pace_min_per_km'].ffill().bfill()\n"
     ]
    },
    {
     "name": "stdout",
     "output_type": "stream",
     "text": [
      "\n",
      "Processing Activity ID: 11285184940 (Run)\n",
      "  - Expected GPX file path: /mnt/c/Users/agust/marathon-data/strava/strava-data/activities/11285184940.gpx\n",
      "  - Found file: activities/11285184940.gpx. Reading and cleaning...\n"
     ]
    },
    {
     "name": "stderr",
     "output_type": "stream",
     "text": [
      "/mnt/c/Users/agust/marathon-data/strava/organise.py:71: FutureWarning: Downcasting object dtype arrays on .fillna, .ffill, .bfill is deprecated and will change in a future version. Call result.infer_objects(copy=False) instead. To opt-in to the future behavior, set `pd.set_option('future.no_silent_downcasting', True)`\n",
      "  df['pace_min_per_km'] = df['pace_min_per_km'].ffill().bfill()\n"
     ]
    },
    {
     "name": "stdout",
     "output_type": "stream",
     "text": [
      "\n",
      "Processing Activity ID: 11340449640 (Run)\n",
      "  - Expected GPX file path: /mnt/c/Users/agust/marathon-data/strava/strava-data/activities/11340449640.gpx\n",
      "  - Found file: activities/11340449640.gpx. Reading and cleaning...\n"
     ]
    },
    {
     "name": "stderr",
     "output_type": "stream",
     "text": [
      "/mnt/c/Users/agust/marathon-data/strava/organise.py:71: FutureWarning: Downcasting object dtype arrays on .fillna, .ffill, .bfill is deprecated and will change in a future version. Call result.infer_objects(copy=False) instead. To opt-in to the future behavior, set `pd.set_option('future.no_silent_downcasting', True)`\n",
      "  df['pace_min_per_km'] = df['pace_min_per_km'].ffill().bfill()\n",
      "/mnt/c/Users/agust/marathon-data/strava/organise.py:71: FutureWarning: Downcasting object dtype arrays on .fillna, .ffill, .bfill is deprecated and will change in a future version. Call result.infer_objects(copy=False) instead. To opt-in to the future behavior, set `pd.set_option('future.no_silent_downcasting', True)`\n",
      "  df['pace_min_per_km'] = df['pace_min_per_km'].ffill().bfill()\n"
     ]
    },
    {
     "name": "stdout",
     "output_type": "stream",
     "text": [
      "\n",
      "Processing Activity ID: 11395723448 (Run)\n",
      "  - Expected GPX file path: /mnt/c/Users/agust/marathon-data/strava/strava-data/activities/11395723448.gpx\n",
      "  - Found file: activities/11395723448.gpx. Reading and cleaning...\n",
      "\n",
      "Processing Activity ID: 12510019080 (Run)\n",
      "  - Expected GPX file path: /mnt/c/Users/agust/marathon-data/strava/strava-data/activities/12510019080.gpx\n",
      "  - Found file: activities/12510019080.gpx. Reading and cleaning...\n",
      "\n",
      "Processing Activity ID: 12566939981 (Run)\n",
      "  - Expected GPX file path: /mnt/c/Users/agust/marathon-data/strava/strava-data/activities/12566939981.gpx\n",
      "  - Found file: activities/12566939981.gpx. Reading and cleaning...\n"
     ]
    },
    {
     "name": "stderr",
     "output_type": "stream",
     "text": [
      "/mnt/c/Users/agust/marathon-data/strava/organise.py:71: FutureWarning: Downcasting object dtype arrays on .fillna, .ffill, .bfill is deprecated and will change in a future version. Call result.infer_objects(copy=False) instead. To opt-in to the future behavior, set `pd.set_option('future.no_silent_downcasting', True)`\n",
      "  df['pace_min_per_km'] = df['pace_min_per_km'].ffill().bfill()\n"
     ]
    },
    {
     "name": "stdout",
     "output_type": "stream",
     "text": [
      "\n",
      "Processing Activity ID: 12607881597 (Run)\n",
      "  - Expected GPX file path: /mnt/c/Users/agust/marathon-data/strava/strava-data/activities/12607881597.gpx\n",
      "  - Found file: activities/12607881597.gpx. Reading and cleaning...\n"
     ]
    },
    {
     "name": "stderr",
     "output_type": "stream",
     "text": [
      "/mnt/c/Users/agust/marathon-data/strava/organise.py:71: FutureWarning: Downcasting object dtype arrays on .fillna, .ffill, .bfill is deprecated and will change in a future version. Call result.infer_objects(copy=False) instead. To opt-in to the future behavior, set `pd.set_option('future.no_silent_downcasting', True)`\n",
      "  df['pace_min_per_km'] = df['pace_min_per_km'].ffill().bfill()\n"
     ]
    },
    {
     "name": "stdout",
     "output_type": "stream",
     "text": [
      "\n",
      "Processing Activity ID: 12623862087 (Run)\n",
      "  - Expected GPX file path: /mnt/c/Users/agust/marathon-data/strava/strava-data/activities/12623862087.gpx\n",
      "  - Found file: activities/12623862087.gpx. Reading and cleaning...\n"
     ]
    },
    {
     "name": "stderr",
     "output_type": "stream",
     "text": [
      "/mnt/c/Users/agust/marathon-data/strava/organise.py:71: FutureWarning: Downcasting object dtype arrays on .fillna, .ffill, .bfill is deprecated and will change in a future version. Call result.infer_objects(copy=False) instead. To opt-in to the future behavior, set `pd.set_option('future.no_silent_downcasting', True)`\n",
      "  df['pace_min_per_km'] = df['pace_min_per_km'].ffill().bfill()\n"
     ]
    },
    {
     "name": "stdout",
     "output_type": "stream",
     "text": [
      "\n",
      "Processing Activity ID: 12663557219 (Run)\n",
      "  - Expected GPX file path: /mnt/c/Users/agust/marathon-data/strava/strava-data/activities/12663557219.gpx\n",
      "  - Found file: activities/12663557219.gpx. Reading and cleaning...\n"
     ]
    },
    {
     "name": "stderr",
     "output_type": "stream",
     "text": [
      "/mnt/c/Users/agust/marathon-data/strava/organise.py:71: FutureWarning: Downcasting object dtype arrays on .fillna, .ffill, .bfill is deprecated and will change in a future version. Call result.infer_objects(copy=False) instead. To opt-in to the future behavior, set `pd.set_option('future.no_silent_downcasting', True)`\n",
      "  df['pace_min_per_km'] = df['pace_min_per_km'].ffill().bfill()\n"
     ]
    },
    {
     "name": "stdout",
     "output_type": "stream",
     "text": [
      "\n",
      "Processing Activity ID: 12679783428 (Run)\n",
      "  - Expected GPX file path: /mnt/c/Users/agust/marathon-data/strava/strava-data/activities/12679783428.gpx\n",
      "  - Found file: activities/12679783428.gpx. Reading and cleaning...\n"
     ]
    },
    {
     "name": "stderr",
     "output_type": "stream",
     "text": [
      "/mnt/c/Users/agust/marathon-data/strava/organise.py:71: FutureWarning: Downcasting object dtype arrays on .fillna, .ffill, .bfill is deprecated and will change in a future version. Call result.infer_objects(copy=False) instead. To opt-in to the future behavior, set `pd.set_option('future.no_silent_downcasting', True)`\n",
      "  df['pace_min_per_km'] = df['pace_min_per_km'].ffill().bfill()\n"
     ]
    },
    {
     "name": "stdout",
     "output_type": "stream",
     "text": [
      "\n",
      "Processing Activity ID: 12719565245 (Run)\n",
      "  - Expected GPX file path: /mnt/c/Users/agust/marathon-data/strava/strava-data/activities/12719565245.gpx\n",
      "  - Found file: activities/12719565245.gpx. Reading and cleaning...\n"
     ]
    },
    {
     "name": "stderr",
     "output_type": "stream",
     "text": [
      "/mnt/c/Users/agust/marathon-data/strava/organise.py:71: FutureWarning: Downcasting object dtype arrays on .fillna, .ffill, .bfill is deprecated and will change in a future version. Call result.infer_objects(copy=False) instead. To opt-in to the future behavior, set `pd.set_option('future.no_silent_downcasting', True)`\n",
      "  df['pace_min_per_km'] = df['pace_min_per_km'].ffill().bfill()\n"
     ]
    },
    {
     "name": "stdout",
     "output_type": "stream",
     "text": [
      "\n",
      "Processing Activity ID: 12736037232 (Run)\n",
      "  - Expected GPX file path: /mnt/c/Users/agust/marathon-data/strava/strava-data/activities/12736037232.gpx\n",
      "  - Found file: activities/12736037232.gpx. Reading and cleaning...\n"
     ]
    },
    {
     "name": "stderr",
     "output_type": "stream",
     "text": [
      "/mnt/c/Users/agust/marathon-data/strava/organise.py:71: FutureWarning: Downcasting object dtype arrays on .fillna, .ffill, .bfill is deprecated and will change in a future version. Call result.infer_objects(copy=False) instead. To opt-in to the future behavior, set `pd.set_option('future.no_silent_downcasting', True)`\n",
      "  df['pace_min_per_km'] = df['pace_min_per_km'].ffill().bfill()\n"
     ]
    },
    {
     "name": "stdout",
     "output_type": "stream",
     "text": [
      "\n",
      "Processing Activity ID: 12775939779 (Run)\n",
      "  - Expected GPX file path: /mnt/c/Users/agust/marathon-data/strava/strava-data/activities/12775939779.gpx\n",
      "  - Found file: activities/12775939779.gpx. Reading and cleaning...\n"
     ]
    },
    {
     "name": "stderr",
     "output_type": "stream",
     "text": [
      "/mnt/c/Users/agust/marathon-data/strava/organise.py:71: FutureWarning: Downcasting object dtype arrays on .fillna, .ffill, .bfill is deprecated and will change in a future version. Call result.infer_objects(copy=False) instead. To opt-in to the future behavior, set `pd.set_option('future.no_silent_downcasting', True)`\n",
      "  df['pace_min_per_km'] = df['pace_min_per_km'].ffill().bfill()\n"
     ]
    },
    {
     "name": "stdout",
     "output_type": "stream",
     "text": [
      "\n",
      "Processing Activity ID: 12831299369 (Run)\n",
      "  - Expected GPX file path: /mnt/c/Users/agust/marathon-data/strava/strava-data/activities/12831299369.gpx\n",
      "  - Found file: activities/12831299369.gpx. Reading and cleaning...\n"
     ]
    },
    {
     "name": "stderr",
     "output_type": "stream",
     "text": [
      "/mnt/c/Users/agust/marathon-data/strava/organise.py:71: FutureWarning: Downcasting object dtype arrays on .fillna, .ffill, .bfill is deprecated and will change in a future version. Call result.infer_objects(copy=False) instead. To opt-in to the future behavior, set `pd.set_option('future.no_silent_downcasting', True)`\n",
      "  df['pace_min_per_km'] = df['pace_min_per_km'].ffill().bfill()\n"
     ]
    },
    {
     "name": "stdout",
     "output_type": "stream",
     "text": [
      "\n",
      "Processing Activity ID: 12847242445 (Run)\n",
      "  - Expected GPX file path: /mnt/c/Users/agust/marathon-data/strava/strava-data/activities/12847242445.gpx\n",
      "  - Found file: activities/12847242445.gpx. Reading and cleaning...\n"
     ]
    },
    {
     "name": "stderr",
     "output_type": "stream",
     "text": [
      "/mnt/c/Users/agust/marathon-data/strava/organise.py:71: FutureWarning: Downcasting object dtype arrays on .fillna, .ffill, .bfill is deprecated and will change in a future version. Call result.infer_objects(copy=False) instead. To opt-in to the future behavior, set `pd.set_option('future.no_silent_downcasting', True)`\n",
      "  df['pace_min_per_km'] = df['pace_min_per_km'].ffill().bfill()\n"
     ]
    },
    {
     "name": "stdout",
     "output_type": "stream",
     "text": [
      "\n",
      "Processing Activity ID: 13039966337 (Run)\n",
      "  - Expected GPX file path: /mnt/c/Users/agust/marathon-data/strava/strava-data/activities/13039966337.gpx\n",
      "  - Found file: activities/13039966337.gpx. Reading and cleaning...\n"
     ]
    },
    {
     "name": "stderr",
     "output_type": "stream",
     "text": [
      "/mnt/c/Users/agust/marathon-data/strava/organise.py:71: FutureWarning: Downcasting object dtype arrays on .fillna, .ffill, .bfill is deprecated and will change in a future version. Call result.infer_objects(copy=False) instead. To opt-in to the future behavior, set `pd.set_option('future.no_silent_downcasting', True)`\n",
      "  df['pace_min_per_km'] = df['pace_min_per_km'].ffill().bfill()\n"
     ]
    },
    {
     "name": "stdout",
     "output_type": "stream",
     "text": [
      "\n",
      "Processing Activity ID: 13180366766 (Run)\n",
      "  - Expected GPX file path: /mnt/c/Users/agust/marathon-data/strava/strava-data/activities/13180366766.gpx\n",
      "  - Found file: activities/13180366766.gpx. Reading and cleaning...\n"
     ]
    },
    {
     "name": "stderr",
     "output_type": "stream",
     "text": [
      "/mnt/c/Users/agust/marathon-data/strava/organise.py:71: FutureWarning: Downcasting object dtype arrays on .fillna, .ffill, .bfill is deprecated and will change in a future version. Call result.infer_objects(copy=False) instead. To opt-in to the future behavior, set `pd.set_option('future.no_silent_downcasting', True)`\n",
      "  df['pace_min_per_km'] = df['pace_min_per_km'].ffill().bfill()\n",
      "/mnt/c/Users/agust/marathon-data/strava/organise.py:71: FutureWarning: Downcasting object dtype arrays on .fillna, .ffill, .bfill is deprecated and will change in a future version. Call result.infer_objects(copy=False) instead. To opt-in to the future behavior, set `pd.set_option('future.no_silent_downcasting', True)`\n",
      "  df['pace_min_per_km'] = df['pace_min_per_km'].ffill().bfill()\n"
     ]
    },
    {
     "name": "stdout",
     "output_type": "stream",
     "text": [
      "\n",
      "Processing Activity ID: 13186801508 (Run)\n",
      "  - Expected GPX file path: /mnt/c/Users/agust/marathon-data/strava/strava-data/activities/13186801508.gpx\n",
      "  - Found file: activities/13186801508.gpx. Reading and cleaning...\n",
      "\n",
      "Processing Activity ID: 13192761442 (Run)\n",
      "  - Expected GPX file path: /mnt/c/Users/agust/marathon-data/strava/strava-data/activities/13192761442.gpx\n",
      "  - Found file: activities/13192761442.gpx. Reading and cleaning...\n"
     ]
    },
    {
     "name": "stderr",
     "output_type": "stream",
     "text": [
      "/mnt/c/Users/agust/marathon-data/strava/organise.py:71: FutureWarning: Downcasting object dtype arrays on .fillna, .ffill, .bfill is deprecated and will change in a future version. Call result.infer_objects(copy=False) instead. To opt-in to the future behavior, set `pd.set_option('future.no_silent_downcasting', True)`\n",
      "  df['pace_min_per_km'] = df['pace_min_per_km'].ffill().bfill()\n"
     ]
    },
    {
     "name": "stdout",
     "output_type": "stream",
     "text": [
      "\n",
      "Processing Activity ID: 13208610584 (Run)\n",
      "  - Expected GPX file path: /mnt/c/Users/agust/marathon-data/strava/strava-data/activities/13208610584.gpx\n",
      "  - Found file: activities/13208610584.gpx. Reading and cleaning...\n"
     ]
    },
    {
     "name": "stderr",
     "output_type": "stream",
     "text": [
      "/mnt/c/Users/agust/marathon-data/strava/organise.py:71: FutureWarning: Downcasting object dtype arrays on .fillna, .ffill, .bfill is deprecated and will change in a future version. Call result.infer_objects(copy=False) instead. To opt-in to the future behavior, set `pd.set_option('future.no_silent_downcasting', True)`\n",
      "  df['pace_min_per_km'] = df['pace_min_per_km'].ffill().bfill()\n",
      "/mnt/c/Users/agust/marathon-data/strava/organise.py:71: FutureWarning: Downcasting object dtype arrays on .fillna, .ffill, .bfill is deprecated and will change in a future version. Call result.infer_objects(copy=False) instead. To opt-in to the future behavior, set `pd.set_option('future.no_silent_downcasting', True)`\n",
      "  df['pace_min_per_km'] = df['pace_min_per_km'].ffill().bfill()\n"
     ]
    },
    {
     "name": "stdout",
     "output_type": "stream",
     "text": [
      "\n",
      "Processing Activity ID: 13229927357 (Run)\n",
      "  - Expected GPX file path: /mnt/c/Users/agust/marathon-data/strava/strava-data/activities/13229927357.gpx\n",
      "  - Found file: activities/13229927357.gpx. Reading and cleaning...\n",
      "\n",
      "Processing Activity ID: 13353525383 (Run)\n",
      "  - Expected GPX file path: /mnt/c/Users/agust/marathon-data/strava/strava-data/activities/13353525383.gpx\n",
      "  - Found file: activities/13353525383.gpx. Reading and cleaning...\n"
     ]
    },
    {
     "name": "stderr",
     "output_type": "stream",
     "text": [
      "/mnt/c/Users/agust/marathon-data/strava/organise.py:71: FutureWarning: Downcasting object dtype arrays on .fillna, .ffill, .bfill is deprecated and will change in a future version. Call result.infer_objects(copy=False) instead. To opt-in to the future behavior, set `pd.set_option('future.no_silent_downcasting', True)`\n",
      "  df['pace_min_per_km'] = df['pace_min_per_km'].ffill().bfill()\n"
     ]
    },
    {
     "name": "stdout",
     "output_type": "stream",
     "text": [
      "\n",
      "Processing Activity ID: 13371574868 (Run)\n",
      "  - Expected GPX file path: /mnt/c/Users/agust/marathon-data/strava/strava-data/activities/13371574868.gpx\n",
      "  - Found file: activities/13371574868.gpx. Reading and cleaning...\n",
      "\n",
      "Processing Activity ID: 13387460557 (Run)\n",
      "  - Expected GPX file path: /mnt/c/Users/agust/marathon-data/strava/strava-data/activities/13387460557.gpx\n",
      "  - Found file: activities/13387460557.gpx. Reading and cleaning...\n"
     ]
    },
    {
     "name": "stderr",
     "output_type": "stream",
     "text": [
      "/mnt/c/Users/agust/marathon-data/strava/organise.py:71: FutureWarning: Downcasting object dtype arrays on .fillna, .ffill, .bfill is deprecated and will change in a future version. Call result.infer_objects(copy=False) instead. To opt-in to the future behavior, set `pd.set_option('future.no_silent_downcasting', True)`\n",
      "  df['pace_min_per_km'] = df['pace_min_per_km'].ffill().bfill()\n"
     ]
    },
    {
     "name": "stdout",
     "output_type": "stream",
     "text": [
      "\n",
      "Processing Activity ID: 13415125596 (Run)\n",
      "  - Expected GPX file path: /mnt/c/Users/agust/marathon-data/strava/strava-data/activities/13415125596.gpx\n",
      "  - Found file: activities/13415125596.gpx. Reading and cleaning...\n"
     ]
    },
    {
     "name": "stderr",
     "output_type": "stream",
     "text": [
      "/mnt/c/Users/agust/marathon-data/strava/organise.py:71: FutureWarning: Downcasting object dtype arrays on .fillna, .ffill, .bfill is deprecated and will change in a future version. Call result.infer_objects(copy=False) instead. To opt-in to the future behavior, set `pd.set_option('future.no_silent_downcasting', True)`\n",
      "  df['pace_min_per_km'] = df['pace_min_per_km'].ffill().bfill()\n"
     ]
    },
    {
     "name": "stdout",
     "output_type": "stream",
     "text": [
      "\n",
      "Processing Activity ID: 13424270895 (Run)\n",
      "  - Expected GPX file path: /mnt/c/Users/agust/marathon-data/strava/strava-data/activities/13424270895.gpx\n",
      "  - Found file: activities/13424270895.gpx. Reading and cleaning...\n"
     ]
    },
    {
     "name": "stderr",
     "output_type": "stream",
     "text": [
      "/mnt/c/Users/agust/marathon-data/strava/organise.py:71: FutureWarning: Downcasting object dtype arrays on .fillna, .ffill, .bfill is deprecated and will change in a future version. Call result.infer_objects(copy=False) instead. To opt-in to the future behavior, set `pd.set_option('future.no_silent_downcasting', True)`\n",
      "  df['pace_min_per_km'] = df['pace_min_per_km'].ffill().bfill()\n",
      "/mnt/c/Users/agust/marathon-data/strava/organise.py:71: FutureWarning: Downcasting object dtype arrays on .fillna, .ffill, .bfill is deprecated and will change in a future version. Call result.infer_objects(copy=False) instead. To opt-in to the future behavior, set `pd.set_option('future.no_silent_downcasting', True)`\n",
      "  df['pace_min_per_km'] = df['pace_min_per_km'].ffill().bfill()\n"
     ]
    },
    {
     "name": "stdout",
     "output_type": "stream",
     "text": [
      "\n",
      "Processing Activity ID: 13433358978 (Run)\n",
      "  - Expected GPX file path: /mnt/c/Users/agust/marathon-data/strava/strava-data/activities/13433358978.gpx\n",
      "  - Found file: activities/13433358978.gpx. Reading and cleaning...\n",
      "\n",
      "Processing Activity ID: 13449060787 (Run)\n",
      "  - Expected GPX file path: /mnt/c/Users/agust/marathon-data/strava/strava-data/activities/13449060787.gpx\n",
      "  - Found file: activities/13449060787.gpx. Reading and cleaning...\n"
     ]
    },
    {
     "name": "stderr",
     "output_type": "stream",
     "text": [
      "/mnt/c/Users/agust/marathon-data/strava/organise.py:71: FutureWarning: Downcasting object dtype arrays on .fillna, .ffill, .bfill is deprecated and will change in a future version. Call result.infer_objects(copy=False) instead. To opt-in to the future behavior, set `pd.set_option('future.no_silent_downcasting', True)`\n",
      "  df['pace_min_per_km'] = df['pace_min_per_km'].ffill().bfill()\n"
     ]
    },
    {
     "name": "stdout",
     "output_type": "stream",
     "text": [
      "\n",
      "Processing Activity ID: 13477203728 (Run)\n",
      "  - Expected GPX file path: /mnt/c/Users/agust/marathon-data/strava/strava-data/activities/13477203728.gpx\n",
      "  - Found file: activities/13477203728.gpx. Reading and cleaning...\n"
     ]
    },
    {
     "name": "stderr",
     "output_type": "stream",
     "text": [
      "/mnt/c/Users/agust/marathon-data/strava/organise.py:71: FutureWarning: Downcasting object dtype arrays on .fillna, .ffill, .bfill is deprecated and will change in a future version. Call result.infer_objects(copy=False) instead. To opt-in to the future behavior, set `pd.set_option('future.no_silent_downcasting', True)`\n",
      "  df['pace_min_per_km'] = df['pace_min_per_km'].ffill().bfill()\n"
     ]
    },
    {
     "name": "stdout",
     "output_type": "stream",
     "text": [
      "\n",
      "Processing Activity ID: 13486503779 (Run)\n",
      "  - Expected GPX file path: /mnt/c/Users/agust/marathon-data/strava/strava-data/activities/13486503779.gpx\n",
      "  - Found file: activities/13486503779.gpx. Reading and cleaning...\n"
     ]
    },
    {
     "name": "stderr",
     "output_type": "stream",
     "text": [
      "/mnt/c/Users/agust/marathon-data/strava/organise.py:71: FutureWarning: Downcasting object dtype arrays on .fillna, .ffill, .bfill is deprecated and will change in a future version. Call result.infer_objects(copy=False) instead. To opt-in to the future behavior, set `pd.set_option('future.no_silent_downcasting', True)`\n",
      "  df['pace_min_per_km'] = df['pace_min_per_km'].ffill().bfill()\n",
      "/mnt/c/Users/agust/marathon-data/strava/organise.py:71: FutureWarning: Downcasting object dtype arrays on .fillna, .ffill, .bfill is deprecated and will change in a future version. Call result.infer_objects(copy=False) instead. To opt-in to the future behavior, set `pd.set_option('future.no_silent_downcasting', True)`\n",
      "  df['pace_min_per_km'] = df['pace_min_per_km'].ffill().bfill()\n"
     ]
    },
    {
     "name": "stdout",
     "output_type": "stream",
     "text": [
      "\n",
      "Processing Activity ID: 13495377350 (Run)\n",
      "  - Expected GPX file path: /mnt/c/Users/agust/marathon-data/strava/strava-data/activities/13495377350.gpx\n",
      "  - Found file: activities/13495377350.gpx. Reading and cleaning...\n",
      "\n",
      "Processing Activity ID: 13519390174 (Run)\n",
      "  - Expected GPX file path: /mnt/c/Users/agust/marathon-data/strava/strava-data/activities/13519390174.gpx\n",
      "  - Found file: activities/13519390174.gpx. Reading and cleaning...\n"
     ]
    },
    {
     "name": "stderr",
     "output_type": "stream",
     "text": [
      "/mnt/c/Users/agust/marathon-data/strava/organise.py:71: FutureWarning: Downcasting object dtype arrays on .fillna, .ffill, .bfill is deprecated and will change in a future version. Call result.infer_objects(copy=False) instead. To opt-in to the future behavior, set `pd.set_option('future.no_silent_downcasting', True)`\n",
      "  df['pace_min_per_km'] = df['pace_min_per_km'].ffill().bfill()\n"
     ]
    },
    {
     "name": "stdout",
     "output_type": "stream",
     "text": [
      "\n",
      "Processing Activity ID: 13535215037 (Run)\n",
      "  - Expected GPX file path: /mnt/c/Users/agust/marathon-data/strava/strava-data/activities/13535215037.gpx\n",
      "  - Found file: activities/13535215037.gpx. Reading and cleaning...\n",
      "\n",
      "Processing Activity ID: 13549454535 (Run)\n",
      "  - Expected GPX file path: /mnt/c/Users/agust/marathon-data/strava/strava-data/activities/13549454535.gpx\n",
      "  - Found file: activities/13549454535.gpx. Reading and cleaning...\n",
      "\n",
      "Processing Activity ID: 13558487534 (Run)\n",
      "  - Expected GPX file path: /mnt/c/Users/agust/marathon-data/strava/strava-data/activities/13558487534.gpx\n",
      "  - Found file: activities/13558487534.gpx. Reading and cleaning...\n"
     ]
    },
    {
     "name": "stderr",
     "output_type": "stream",
     "text": [
      "/mnt/c/Users/agust/marathon-data/strava/organise.py:71: FutureWarning: Downcasting object dtype arrays on .fillna, .ffill, .bfill is deprecated and will change in a future version. Call result.infer_objects(copy=False) instead. To opt-in to the future behavior, set `pd.set_option('future.no_silent_downcasting', True)`\n",
      "  df['pace_min_per_km'] = df['pace_min_per_km'].ffill().bfill()\n"
     ]
    },
    {
     "name": "stdout",
     "output_type": "stream",
     "text": [
      "\n",
      "Processing Activity ID: 13582384956 (Run)\n",
      "  - Expected GPX file path: /mnt/c/Users/agust/marathon-data/strava/strava-data/activities/13582384956.gpx\n",
      "  - Found file: activities/13582384956.gpx. Reading and cleaning...\n"
     ]
    },
    {
     "name": "stderr",
     "output_type": "stream",
     "text": [
      "/mnt/c/Users/agust/marathon-data/strava/organise.py:71: FutureWarning: Downcasting object dtype arrays on .fillna, .ffill, .bfill is deprecated and will change in a future version. Call result.infer_objects(copy=False) instead. To opt-in to the future behavior, set `pd.set_option('future.no_silent_downcasting', True)`\n",
      "  df['pace_min_per_km'] = df['pace_min_per_km'].ffill().bfill()\n"
     ]
    },
    {
     "name": "stdout",
     "output_type": "stream",
     "text": [
      "\n",
      "Processing Activity ID: 13602159859 (Run)\n",
      "  - Expected GPX file path: /mnt/c/Users/agust/marathon-data/strava/strava-data/activities/13602159859.gpx\n",
      "  - Found file: activities/13602159859.gpx. Reading and cleaning...\n"
     ]
    },
    {
     "name": "stderr",
     "output_type": "stream",
     "text": [
      "/mnt/c/Users/agust/marathon-data/strava/organise.py:71: FutureWarning: Downcasting object dtype arrays on .fillna, .ffill, .bfill is deprecated and will change in a future version. Call result.infer_objects(copy=False) instead. To opt-in to the future behavior, set `pd.set_option('future.no_silent_downcasting', True)`\n",
      "  df['pace_min_per_km'] = df['pace_min_per_km'].ffill().bfill()\n"
     ]
    },
    {
     "name": "stdout",
     "output_type": "stream",
     "text": [
      "\n",
      "Processing Activity ID: 13611122207 (Run)\n",
      "  - Expected GPX file path: /mnt/c/Users/agust/marathon-data/strava/strava-data/activities/13611122207.gpx\n",
      "  - Found file: activities/13611122207.gpx. Reading and cleaning...\n"
     ]
    },
    {
     "name": "stderr",
     "output_type": "stream",
     "text": [
      "/mnt/c/Users/agust/marathon-data/strava/organise.py:71: FutureWarning: Downcasting object dtype arrays on .fillna, .ffill, .bfill is deprecated and will change in a future version. Call result.infer_objects(copy=False) instead. To opt-in to the future behavior, set `pd.set_option('future.no_silent_downcasting', True)`\n",
      "  df['pace_min_per_km'] = df['pace_min_per_km'].ffill().bfill()\n",
      "/mnt/c/Users/agust/marathon-data/strava/organise.py:71: FutureWarning: Downcasting object dtype arrays on .fillna, .ffill, .bfill is deprecated and will change in a future version. Call result.infer_objects(copy=False) instead. To opt-in to the future behavior, set `pd.set_option('future.no_silent_downcasting', True)`\n",
      "  df['pace_min_per_km'] = df['pace_min_per_km'].ffill().bfill()\n"
     ]
    },
    {
     "name": "stdout",
     "output_type": "stream",
     "text": [
      "\n",
      "Processing Activity ID: 13619388092 (Run)\n",
      "  - Expected GPX file path: /mnt/c/Users/agust/marathon-data/strava/strava-data/activities/13619388092.gpx\n",
      "  - Found file: activities/13619388092.gpx. Reading and cleaning...\n",
      "\n",
      "Processing Activity ID: 13643389433 (Run)\n",
      "  - Expected GPX file path: /mnt/c/Users/agust/marathon-data/strava/strava-data/activities/13643389433.gpx\n",
      "  - Found file: activities/13643389433.gpx. Reading and cleaning...\n"
     ]
    },
    {
     "name": "stderr",
     "output_type": "stream",
     "text": [
      "/mnt/c/Users/agust/marathon-data/strava/organise.py:71: FutureWarning: Downcasting object dtype arrays on .fillna, .ffill, .bfill is deprecated and will change in a future version. Call result.infer_objects(copy=False) instead. To opt-in to the future behavior, set `pd.set_option('future.no_silent_downcasting', True)`\n",
      "  df['pace_min_per_km'] = df['pace_min_per_km'].ffill().bfill()\n"
     ]
    },
    {
     "name": "stdout",
     "output_type": "stream",
     "text": [
      "\n",
      "Processing Activity ID: 13663277199 (Run)\n",
      "  - Expected GPX file path: /mnt/c/Users/agust/marathon-data/strava/strava-data/activities/13663277199.gpx\n",
      "  - Found file: activities/13663277199.gpx. Reading and cleaning...\n"
     ]
    },
    {
     "name": "stderr",
     "output_type": "stream",
     "text": [
      "/mnt/c/Users/agust/marathon-data/strava/organise.py:71: FutureWarning: Downcasting object dtype arrays on .fillna, .ffill, .bfill is deprecated and will change in a future version. Call result.infer_objects(copy=False) instead. To opt-in to the future behavior, set `pd.set_option('future.no_silent_downcasting', True)`\n",
      "  df['pace_min_per_km'] = df['pace_min_per_km'].ffill().bfill()\n"
     ]
    },
    {
     "name": "stdout",
     "output_type": "stream",
     "text": [
      "\n",
      "Processing Activity ID: 13672659129 (Run)\n",
      "  - Expected GPX file path: /mnt/c/Users/agust/marathon-data/strava/strava-data/activities/13672659129.gpx\n",
      "  - Found file: activities/13672659129.gpx. Reading and cleaning...\n"
     ]
    },
    {
     "name": "stderr",
     "output_type": "stream",
     "text": [
      "/mnt/c/Users/agust/marathon-data/strava/organise.py:71: FutureWarning: Downcasting object dtype arrays on .fillna, .ffill, .bfill is deprecated and will change in a future version. Call result.infer_objects(copy=False) instead. To opt-in to the future behavior, set `pd.set_option('future.no_silent_downcasting', True)`\n",
      "  df['pace_min_per_km'] = df['pace_min_per_km'].ffill().bfill()\n"
     ]
    },
    {
     "name": "stdout",
     "output_type": "stream",
     "text": [
      "\n",
      "Processing Activity ID: 13680846099 (Run)\n",
      "  - Expected GPX file path: /mnt/c/Users/agust/marathon-data/strava/strava-data/activities/13680846099.gpx\n",
      "  - Found file: activities/13680846099.gpx. Reading and cleaning...\n",
      "\n",
      "Processing Activity ID: 13697670039 (Run)\n",
      "  - Expected GPX file path: /mnt/c/Users/agust/marathon-data/strava/strava-data/activities/13697670039.gpx\n",
      "  - Found file: activities/13697670039.gpx. Reading and cleaning...\n"
     ]
    },
    {
     "name": "stderr",
     "output_type": "stream",
     "text": [
      "/mnt/c/Users/agust/marathon-data/strava/organise.py:71: FutureWarning: Downcasting object dtype arrays on .fillna, .ffill, .bfill is deprecated and will change in a future version. Call result.infer_objects(copy=False) instead. To opt-in to the future behavior, set `pd.set_option('future.no_silent_downcasting', True)`\n",
      "  df['pace_min_per_km'] = df['pace_min_per_km'].ffill().bfill()\n"
     ]
    },
    {
     "name": "stdout",
     "output_type": "stream",
     "text": [
      "\n",
      "Processing Activity ID: 13725828692 (Run)\n",
      "  - Expected GPX file path: /mnt/c/Users/agust/marathon-data/strava/strava-data/activities/13725828692.gpx\n",
      "  - Found file: activities/13725828692.gpx. Reading and cleaning...\n"
     ]
    },
    {
     "name": "stderr",
     "output_type": "stream",
     "text": [
      "/mnt/c/Users/agust/marathon-data/strava/organise.py:71: FutureWarning: Downcasting object dtype arrays on .fillna, .ffill, .bfill is deprecated and will change in a future version. Call result.infer_objects(copy=False) instead. To opt-in to the future behavior, set `pd.set_option('future.no_silent_downcasting', True)`\n",
      "  df['pace_min_per_km'] = df['pace_min_per_km'].ffill().bfill()\n",
      "/mnt/c/Users/agust/marathon-data/strava/organise.py:71: FutureWarning: Downcasting object dtype arrays on .fillna, .ffill, .bfill is deprecated and will change in a future version. Call result.infer_objects(copy=False) instead. To opt-in to the future behavior, set `pd.set_option('future.no_silent_downcasting', True)`\n",
      "  df['pace_min_per_km'] = df['pace_min_per_km'].ffill().bfill()\n"
     ]
    },
    {
     "name": "stdout",
     "output_type": "stream",
     "text": [
      "\n",
      "Processing Activity ID: 13730979623 (Run)\n",
      "  - Expected GPX file path: /mnt/c/Users/agust/marathon-data/strava/strava-data/activities/13730979623.gpx\n",
      "  - Found file: activities/13730979623.gpx. Reading and cleaning...\n",
      "\n",
      "Processing Activity ID: 13744455872 (Run)\n",
      "  - Expected GPX file path: /mnt/c/Users/agust/marathon-data/strava/strava-data/activities/13744455872.gpx\n",
      "  - Found file: activities/13744455872.gpx. Reading and cleaning...\n"
     ]
    },
    {
     "name": "stderr",
     "output_type": "stream",
     "text": [
      "/mnt/c/Users/agust/marathon-data/strava/organise.py:71: FutureWarning: Downcasting object dtype arrays on .fillna, .ffill, .bfill is deprecated and will change in a future version. Call result.infer_objects(copy=False) instead. To opt-in to the future behavior, set `pd.set_option('future.no_silent_downcasting', True)`\n",
      "  df['pace_min_per_km'] = df['pace_min_per_km'].ffill().bfill()\n"
     ]
    },
    {
     "name": "stdout",
     "output_type": "stream",
     "text": [
      "\n",
      "Processing Activity ID: 13762810256 (Run)\n",
      "  - Expected GPX file path: /mnt/c/Users/agust/marathon-data/strava/strava-data/activities/13762810256.gpx\n",
      "  - Found file: activities/13762810256.gpx. Reading and cleaning...\n"
     ]
    },
    {
     "name": "stderr",
     "output_type": "stream",
     "text": [
      "/mnt/c/Users/agust/marathon-data/strava/organise.py:71: FutureWarning: Downcasting object dtype arrays on .fillna, .ffill, .bfill is deprecated and will change in a future version. Call result.infer_objects(copy=False) instead. To opt-in to the future behavior, set `pd.set_option('future.no_silent_downcasting', True)`\n",
      "  df['pace_min_per_km'] = df['pace_min_per_km'].ffill().bfill()\n"
     ]
    },
    {
     "name": "stdout",
     "output_type": "stream",
     "text": [
      "\n",
      "Processing Activity ID: 13855343196 (Run)\n",
      "  - Expected GPX file path: /mnt/c/Users/agust/marathon-data/strava/strava-data/activities/13855343196.gpx\n",
      "  - Found file: activities/13855343196.gpx. Reading and cleaning...\n"
     ]
    },
    {
     "name": "stderr",
     "output_type": "stream",
     "text": [
      "/mnt/c/Users/agust/marathon-data/strava/organise.py:71: FutureWarning: Downcasting object dtype arrays on .fillna, .ffill, .bfill is deprecated and will change in a future version. Call result.infer_objects(copy=False) instead. To opt-in to the future behavior, set `pd.set_option('future.no_silent_downcasting', True)`\n",
      "  df['pace_min_per_km'] = df['pace_min_per_km'].ffill().bfill()\n"
     ]
    },
    {
     "name": "stdout",
     "output_type": "stream",
     "text": [
      "\n",
      "Processing Activity ID: 13865338945 (Run)\n",
      "  - Expected GPX file path: /mnt/c/Users/agust/marathon-data/strava/strava-data/activities/13865338945.gpx\n",
      "  - Found file: activities/13865338945.gpx. Reading and cleaning...\n"
     ]
    },
    {
     "name": "stderr",
     "output_type": "stream",
     "text": [
      "/mnt/c/Users/agust/marathon-data/strava/organise.py:71: FutureWarning: Downcasting object dtype arrays on .fillna, .ffill, .bfill is deprecated and will change in a future version. Call result.infer_objects(copy=False) instead. To opt-in to the future behavior, set `pd.set_option('future.no_silent_downcasting', True)`\n",
      "  df['pace_min_per_km'] = df['pace_min_per_km'].ffill().bfill()\n"
     ]
    },
    {
     "name": "stdout",
     "output_type": "stream",
     "text": [
      "\n",
      "Processing Activity ID: 13874048926 (Run)\n",
      "  - Expected GPX file path: /mnt/c/Users/agust/marathon-data/strava/strava-data/activities/13874048926.gpx\n",
      "  - Found file: activities/13874048926.gpx. Reading and cleaning...\n"
     ]
    },
    {
     "name": "stderr",
     "output_type": "stream",
     "text": [
      "/mnt/c/Users/agust/marathon-data/strava/organise.py:71: FutureWarning: Downcasting object dtype arrays on .fillna, .ffill, .bfill is deprecated and will change in a future version. Call result.infer_objects(copy=False) instead. To opt-in to the future behavior, set `pd.set_option('future.no_silent_downcasting', True)`\n",
      "  df['pace_min_per_km'] = df['pace_min_per_km'].ffill().bfill()\n"
     ]
    },
    {
     "name": "stdout",
     "output_type": "stream",
     "text": [
      "\n",
      "Processing Activity ID: 13892848790 (Run)\n",
      "  - Expected GPX file path: /mnt/c/Users/agust/marathon-data/strava/strava-data/activities/13892848790.gpx\n",
      "  - Found file: activities/13892848790.gpx. Reading and cleaning...\n"
     ]
    },
    {
     "name": "stderr",
     "output_type": "stream",
     "text": [
      "/mnt/c/Users/agust/marathon-data/strava/organise.py:71: FutureWarning: Downcasting object dtype arrays on .fillna, .ffill, .bfill is deprecated and will change in a future version. Call result.infer_objects(copy=False) instead. To opt-in to the future behavior, set `pd.set_option('future.no_silent_downcasting', True)`\n",
      "  df['pace_min_per_km'] = df['pace_min_per_km'].ffill().bfill()\n"
     ]
    },
    {
     "name": "stdout",
     "output_type": "stream",
     "text": [
      "\n",
      "Processing Activity ID: 13919863760 (Run)\n",
      "  - Expected GPX file path: /mnt/c/Users/agust/marathon-data/strava/strava-data/activities/13919863760.gpx\n",
      "  - Found file: activities/13919863760.gpx. Reading and cleaning...\n"
     ]
    },
    {
     "name": "stderr",
     "output_type": "stream",
     "text": [
      "/mnt/c/Users/agust/marathon-data/strava/organise.py:71: FutureWarning: Downcasting object dtype arrays on .fillna, .ffill, .bfill is deprecated and will change in a future version. Call result.infer_objects(copy=False) instead. To opt-in to the future behavior, set `pd.set_option('future.no_silent_downcasting', True)`\n",
      "  df['pace_min_per_km'] = df['pace_min_per_km'].ffill().bfill()\n"
     ]
    },
    {
     "name": "stdout",
     "output_type": "stream",
     "text": [
      "\n",
      "Processing Activity ID: 13930350120 (Run)\n",
      "  - Expected GPX file path: /mnt/c/Users/agust/marathon-data/strava/strava-data/activities/13930350120.gpx\n",
      "  - Found file: activities/13930350120.gpx. Reading and cleaning...\n"
     ]
    },
    {
     "name": "stderr",
     "output_type": "stream",
     "text": [
      "/mnt/c/Users/agust/marathon-data/strava/organise.py:71: FutureWarning: Downcasting object dtype arrays on .fillna, .ffill, .bfill is deprecated and will change in a future version. Call result.infer_objects(copy=False) instead. To opt-in to the future behavior, set `pd.set_option('future.no_silent_downcasting', True)`\n",
      "  df['pace_min_per_km'] = df['pace_min_per_km'].ffill().bfill()\n"
     ]
    },
    {
     "name": "stdout",
     "output_type": "stream",
     "text": [
      "\n",
      "Processing Activity ID: 13939318554 (Run)\n",
      "  - Expected GPX file path: /mnt/c/Users/agust/marathon-data/strava/strava-data/activities/13939318554.gpx\n",
      "  - Found file: activities/13939318554.gpx. Reading and cleaning...\n"
     ]
    },
    {
     "name": "stderr",
     "output_type": "stream",
     "text": [
      "/mnt/c/Users/agust/marathon-data/strava/organise.py:71: FutureWarning: Downcasting object dtype arrays on .fillna, .ffill, .bfill is deprecated and will change in a future version. Call result.infer_objects(copy=False) instead. To opt-in to the future behavior, set `pd.set_option('future.no_silent_downcasting', True)`\n",
      "  df['pace_min_per_km'] = df['pace_min_per_km'].ffill().bfill()\n"
     ]
    },
    {
     "name": "stdout",
     "output_type": "stream",
     "text": [
      "\n",
      "Processing Activity ID: 13958621606 (Run)\n",
      "  - Expected GPX file path: /mnt/c/Users/agust/marathon-data/strava/strava-data/activities/13958621606.gpx\n",
      "  - Found file: activities/13958621606.gpx. Reading and cleaning...\n"
     ]
    },
    {
     "name": "stderr",
     "output_type": "stream",
     "text": [
      "/mnt/c/Users/agust/marathon-data/strava/organise.py:71: FutureWarning: Downcasting object dtype arrays on .fillna, .ffill, .bfill is deprecated and will change in a future version. Call result.infer_objects(copy=False) instead. To opt-in to the future behavior, set `pd.set_option('future.no_silent_downcasting', True)`\n",
      "  df['pace_min_per_km'] = df['pace_min_per_km'].ffill().bfill()\n"
     ]
    },
    {
     "name": "stdout",
     "output_type": "stream",
     "text": [
      "\n",
      "Processing Activity ID: 13996357044 (Run)\n",
      "  - Expected GPX file path: /mnt/c/Users/agust/marathon-data/strava/strava-data/activities/13996357044.gpx\n",
      "  - Found file: activities/13996357044.gpx. Reading and cleaning...\n"
     ]
    },
    {
     "name": "stderr",
     "output_type": "stream",
     "text": [
      "/mnt/c/Users/agust/marathon-data/strava/organise.py:71: FutureWarning: Downcasting object dtype arrays on .fillna, .ffill, .bfill is deprecated and will change in a future version. Call result.infer_objects(copy=False) instead. To opt-in to the future behavior, set `pd.set_option('future.no_silent_downcasting', True)`\n",
      "  df['pace_min_per_km'] = df['pace_min_per_km'].ffill().bfill()\n"
     ]
    },
    {
     "name": "stdout",
     "output_type": "stream",
     "text": [
      "\n",
      "Processing Activity ID: 14061308478 (Run)\n",
      "  - Expected GPX file path: /mnt/c/Users/agust/marathon-data/strava/strava-data/activities/14061308478.gpx\n",
      "  - Found file: activities/14061308478.gpx. Reading and cleaning...\n"
     ]
    },
    {
     "name": "stderr",
     "output_type": "stream",
     "text": [
      "/mnt/c/Users/agust/marathon-data/strava/organise.py:71: FutureWarning: Downcasting object dtype arrays on .fillna, .ffill, .bfill is deprecated and will change in a future version. Call result.infer_objects(copy=False) instead. To opt-in to the future behavior, set `pd.set_option('future.no_silent_downcasting', True)`\n",
      "  df['pace_min_per_km'] = df['pace_min_per_km'].ffill().bfill()\n"
     ]
    },
    {
     "name": "stdout",
     "output_type": "stream",
     "text": [
      "\n",
      "Processing Activity ID: 14066582779 (Run)\n",
      "  - Expected GPX file path: /mnt/c/Users/agust/marathon-data/strava/strava-data/activities/14066582779.gpx\n",
      "  - Found file: activities/14066582779.gpx. Reading and cleaning...\n"
     ]
    },
    {
     "name": "stderr",
     "output_type": "stream",
     "text": [
      "/mnt/c/Users/agust/marathon-data/strava/organise.py:71: FutureWarning: Downcasting object dtype arrays on .fillna, .ffill, .bfill is deprecated and will change in a future version. Call result.infer_objects(copy=False) instead. To opt-in to the future behavior, set `pd.set_option('future.no_silent_downcasting', True)`\n",
      "  df['pace_min_per_km'] = df['pace_min_per_km'].ffill().bfill()\n"
     ]
    },
    {
     "name": "stdout",
     "output_type": "stream",
     "text": [
      "\n",
      "Processing Activity ID: 14076547530 (Run)\n",
      "  - Expected GPX file path: /mnt/c/Users/agust/marathon-data/strava/strava-data/activities/14076547530.gpx\n",
      "  - Found file: activities/14076547530.gpx. Reading and cleaning...\n",
      "\n",
      "Processing Activity ID: 14099009133 (Run)\n",
      "  - Expected GPX file path: /mnt/c/Users/agust/marathon-data/strava/strava-data/activities/14099009133.gpx\n",
      "  - Found file: activities/14099009133.gpx. Reading and cleaning...\n"
     ]
    },
    {
     "name": "stderr",
     "output_type": "stream",
     "text": [
      "/mnt/c/Users/agust/marathon-data/strava/organise.py:71: FutureWarning: Downcasting object dtype arrays on .fillna, .ffill, .bfill is deprecated and will change in a future version. Call result.infer_objects(copy=False) instead. To opt-in to the future behavior, set `pd.set_option('future.no_silent_downcasting', True)`\n",
      "  df['pace_min_per_km'] = df['pace_min_per_km'].ffill().bfill()\n"
     ]
    },
    {
     "name": "stdout",
     "output_type": "stream",
     "text": [
      "\n",
      "Processing Activity ID: 14118686974 (Run)\n",
      "  - Expected GPX file path: /mnt/c/Users/agust/marathon-data/strava/strava-data/activities/14118686974.gpx\n",
      "  - Found file: activities/14118686974.gpx. Reading and cleaning...\n",
      "\n",
      "Processing Activity ID: 14155386569 (Run)\n",
      "  - Expected GPX file path: /mnt/c/Users/agust/marathon-data/strava/strava-data/activities/14155386569.gpx\n",
      "  - Found file: activities/14155386569.gpx. Reading and cleaning...\n",
      "\n",
      "Processing Activity ID: 14186935806 (Run)\n",
      "  - Expected GPX file path: /mnt/c/Users/agust/marathon-data/strava/strava-data/activities/14186935806.gpx\n",
      "  - Found file: activities/14186935806.gpx. Reading and cleaning...\n"
     ]
    },
    {
     "name": "stderr",
     "output_type": "stream",
     "text": [
      "/mnt/c/Users/agust/marathon-data/strava/organise.py:71: FutureWarning: Downcasting object dtype arrays on .fillna, .ffill, .bfill is deprecated and will change in a future version. Call result.infer_objects(copy=False) instead. To opt-in to the future behavior, set `pd.set_option('future.no_silent_downcasting', True)`\n",
      "  df['pace_min_per_km'] = df['pace_min_per_km'].ffill().bfill()\n"
     ]
    },
    {
     "name": "stdout",
     "output_type": "stream",
     "text": [
      "\n",
      "Processing Activity ID: 14195116240 (Run)\n",
      "  - Expected GPX file path: /mnt/c/Users/agust/marathon-data/strava/strava-data/activities/14195116240.gpx\n",
      "  - Found file: activities/14195116240.gpx. Reading and cleaning...\n"
     ]
    },
    {
     "name": "stderr",
     "output_type": "stream",
     "text": [
      "/mnt/c/Users/agust/marathon-data/strava/organise.py:71: FutureWarning: Downcasting object dtype arrays on .fillna, .ffill, .bfill is deprecated and will change in a future version. Call result.infer_objects(copy=False) instead. To opt-in to the future behavior, set `pd.set_option('future.no_silent_downcasting', True)`\n",
      "  df['pace_min_per_km'] = df['pace_min_per_km'].ffill().bfill()\n"
     ]
    },
    {
     "name": "stdout",
     "output_type": "stream",
     "text": [
      "\n",
      "Processing Activity ID: 14205264557 (Run)\n",
      "  - Expected GPX file path: /mnt/c/Users/agust/marathon-data/strava/strava-data/activities/14205264557.gpx\n",
      "  - Found file: activities/14205264557.gpx. Reading and cleaning...\n"
     ]
    },
    {
     "name": "stderr",
     "output_type": "stream",
     "text": [
      "/mnt/c/Users/agust/marathon-data/strava/organise.py:71: FutureWarning: Downcasting object dtype arrays on .fillna, .ffill, .bfill is deprecated and will change in a future version. Call result.infer_objects(copy=False) instead. To opt-in to the future behavior, set `pd.set_option('future.no_silent_downcasting', True)`\n",
      "  df['pace_min_per_km'] = df['pace_min_per_km'].ffill().bfill()\n"
     ]
    },
    {
     "name": "stdout",
     "output_type": "stream",
     "text": [
      "\n",
      "Processing Activity ID: 14224176526 (Run)\n",
      "  - Expected GPX file path: /mnt/c/Users/agust/marathon-data/strava/strava-data/activities/14224176526.gpx\n",
      "  - Found file: activities/14224176526.gpx. Reading and cleaning...\n"
     ]
    },
    {
     "name": "stderr",
     "output_type": "stream",
     "text": [
      "/mnt/c/Users/agust/marathon-data/strava/organise.py:71: FutureWarning: Downcasting object dtype arrays on .fillna, .ffill, .bfill is deprecated and will change in a future version. Call result.infer_objects(copy=False) instead. To opt-in to the future behavior, set `pd.set_option('future.no_silent_downcasting', True)`\n",
      "  df['pace_min_per_km'] = df['pace_min_per_km'].ffill().bfill()\n"
     ]
    },
    {
     "name": "stdout",
     "output_type": "stream",
     "text": [
      "\n",
      "Processing Activity ID: 14253317714 (Run)\n",
      "  - Expected GPX file path: /mnt/c/Users/agust/marathon-data/strava/strava-data/activities/14253317714.gpx\n",
      "  - Found file: activities/14253317714.gpx. Reading and cleaning...\n"
     ]
    },
    {
     "name": "stderr",
     "output_type": "stream",
     "text": [
      "/mnt/c/Users/agust/marathon-data/strava/organise.py:71: FutureWarning: Downcasting object dtype arrays on .fillna, .ffill, .bfill is deprecated and will change in a future version. Call result.infer_objects(copy=False) instead. To opt-in to the future behavior, set `pd.set_option('future.no_silent_downcasting', True)`\n",
      "  df['pace_min_per_km'] = df['pace_min_per_km'].ffill().bfill()\n",
      "/mnt/c/Users/agust/marathon-data/strava/organise.py:71: FutureWarning: Downcasting object dtype arrays on .fillna, .ffill, .bfill is deprecated and will change in a future version. Call result.infer_objects(copy=False) instead. To opt-in to the future behavior, set `pd.set_option('future.no_silent_downcasting', True)`\n",
      "  df['pace_min_per_km'] = df['pace_min_per_km'].ffill().bfill()\n"
     ]
    },
    {
     "name": "stdout",
     "output_type": "stream",
     "text": [
      "\n",
      "Processing Activity ID: 14261920445 (Run)\n",
      "  - Expected GPX file path: /mnt/c/Users/agust/marathon-data/strava/strava-data/activities/14261920445.gpx\n",
      "  - Found file: activities/14261920445.gpx. Reading and cleaning...\n",
      "\n",
      "Processing Activity ID: 14270608835 (Run)\n",
      "  - Expected GPX file path: /mnt/c/Users/agust/marathon-data/strava/strava-data/activities/14270608835.gpx\n",
      "  - Found file: activities/14270608835.gpx. Reading and cleaning...\n"
     ]
    },
    {
     "name": "stderr",
     "output_type": "stream",
     "text": [
      "/mnt/c/Users/agust/marathon-data/strava/organise.py:71: FutureWarning: Downcasting object dtype arrays on .fillna, .ffill, .bfill is deprecated and will change in a future version. Call result.infer_objects(copy=False) instead. To opt-in to the future behavior, set `pd.set_option('future.no_silent_downcasting', True)`\n",
      "  df['pace_min_per_km'] = df['pace_min_per_km'].ffill().bfill()\n"
     ]
    },
    {
     "name": "stdout",
     "output_type": "stream",
     "text": [
      "\n",
      "Processing Activity ID: 14303002789 (Run)\n",
      "  - Expected GPX file path: /mnt/c/Users/agust/marathon-data/strava/strava-data/activities/14303002789.gpx\n",
      "  - Found file: activities/14303002789.gpx. Reading and cleaning...\n",
      "\n",
      "Processing complete.\n",
      "Successfully processed 73 activities from Strava.\n"
     ]
    },
    {
     "name": "stderr",
     "output_type": "stream",
     "text": [
      "/mnt/c/Users/agust/marathon-data/strava/organise.py:71: FutureWarning: Downcasting object dtype arrays on .fillna, .ffill, .bfill is deprecated and will change in a future version. Call result.infer_objects(copy=False) instead. To opt-in to the future behavior, set `pd.set_option('future.no_silent_downcasting', True)`\n",
      "  df['pace_min_per_km'] = df['pace_min_per_km'].ffill().bfill()\n"
     ]
    }
   ],
   "source": [
    "# --- 2. Process Strava Data ---\n",
    "print(\"\\n\" + \"=\"*25)\n",
    "print(\"Processing Strava Data\")\n",
    "print(\"=\"*25)\n",
    "try:\n",
    "    strava_data = organise_strava_data(os.path.join(strava_path, 'strava-data'))\n",
    "    for activity_id, activity_data in strava_data.items():\n",
    "        if activity_data.get('track_data') is not None:\n",
    "            # Note: Strava feature engineering might have different outputs\n",
    "            features = engineer_strava_features(activity_data['track_data'])\n",
    "            activity_data['metadata'].update(features)\n",
    "            \n",
    "    strava_metadata = [d['metadata'] for d in strava_data.values()]\n",
    "    strava_df = pd.DataFrame(strava_metadata)\n",
    "    strava_df['Source'] = 'Strava'\n",
    "    print(f\"Successfully processed {len(strava_df)} activities from Strava.\")\n",
    "except Exception as e:\n",
    "    print(f\"Could not process Strava data: {e}\")\n",
    "    strava_df = pd.DataFrame()"
   ]
  },
  {
   "cell_type": "code",
   "execution_count": 34,
   "id": "33c15153",
   "metadata": {},
   "outputs": [
    {
     "name": "stdout",
     "output_type": "stream",
     "text": [
      "\n",
      "=========================\n",
      "Processing Samsung Health Data\n",
      "=========================\n",
      "Checking file: com.samsung.health.device_profile.2025061816.csv\n",
      "Checking file: com.samsung.health.exercise.2025061816.csv\n",
      "Found exercise CSV: com.samsung.health.exercise.2025061816.csv\n",
      "Reading heart rate data from: com.samsung.health.heart_rate.2025061816.csv\n",
      "  - Found 27364 heart rate records below 90 bpm. Adjusting by +100.\n",
      "Reading master exercise list from: com.samsung.health.exercise.2025061816.csv\n",
      "\n",
      "Processing 216 running activities...\n",
      "\n",
      "Processing Activity ID: 20191004_160055 (Running)\n",
      "  - Found 132 heart rate records for this activity.\n",
      "\n",
      "Processing Activity ID: 20191030_164032 (Running)\n",
      "  - Found 29 heart rate records for this activity.\n",
      "\n",
      "Processing Activity ID: 20190911_162329 (Running)\n",
      "  - Found 100 heart rate records for this activity.\n",
      "\n",
      "Processing Activity ID: 20191101_154416 (Running)\n",
      "  - Found 33 heart rate records for this activity.\n",
      "\n",
      "Processing Activity ID: 20190904_161928 (Running)\n",
      "  - Found 50 heart rate records for this activity.\n",
      "\n",
      "Processing Activity ID: 20190827_153848 (Running)\n",
      "  - Found 41 heart rate records for this activity.\n",
      "\n",
      "Processing Activity ID: 20190930_154428 (Running)\n",
      "  - Found 136 heart rate records for this activity.\n",
      "\n",
      "Processing Activity ID: 20190828_162825 (Running)\n",
      "  - Found 30 heart rate records for this activity.\n",
      "\n",
      "Processing Activity ID: 20191009_163623 (Running)\n",
      "  - Found 112 heart rate records for this activity.\n",
      "\n",
      "Processing Activity ID: 20191024_154815 (Running)\n",
      "  - Found 18 heart rate records for this activity.\n",
      "\n",
      "Processing Activity ID: 20191023_154556 (Running)\n",
      "  - Found 21 heart rate records for this activity.\n",
      "\n",
      "Processing Activity ID: 20190923_160537 (Running)\n",
      "  - Found 185 heart rate records for this activity.\n",
      "\n",
      "Processing Activity ID: 20191102_105949 (Running)\n",
      "  - Found 47 heart rate records for this activity.\n",
      "\n",
      "Processing Activity ID: 20190904_164635 (Running)\n",
      "  - Found 32 heart rate records for this activity.\n",
      "\n",
      "Processing Activity ID: 20190907_090114 (Running)\n",
      "  - Found 147 heart rate records for this activity.\n",
      "\n",
      "Processing Activity ID: 20190914_114049 (Running)\n",
      "  - Found 120 heart rate records for this activity.\n",
      "\n",
      "Processing Activity ID: 20191002_163538 (Running)\n",
      "  - Found 46 heart rate records for this activity.\n",
      "\n",
      "Processing Activity ID: 20200114_164112 (Running)\n",
      "  - Found 24 heart rate records for this activity.\n",
      "\n",
      "Processing Activity ID: 20210124_131342 (Running)\n",
      "  - Found 2 heart rate records for this activity.\n",
      "\n",
      "Processing Activity ID: 20210131_113339 (Running)\n",
      "  - No heart rate data found for this activity's time window.\n",
      "\n",
      "Processing Activity ID: 20210321_072854 (Running)\n",
      "  - Found 18 heart rate records for this activity.\n",
      "\n",
      "Processing Activity ID: 20210308_064908 (Running)\n",
      "  - Found 5 heart rate records for this activity.\n",
      "\n",
      "Processing Activity ID: 20201102_162735 (Running)\n",
      "  - Found 5 heart rate records for this activity.\n",
      "\n",
      "Processing Activity ID: 20200913_043410 (Running)\n",
      "  - Found 6 heart rate records for this activity.\n",
      "\n",
      "Processing Activity ID: 20200828_194140 (Running)\n",
      "  - No heart rate data found for this activity's time window.\n",
      "\n",
      "Processing Activity ID: 20210131_111820 (Running)\n",
      "  - Found 2 heart rate records for this activity.\n",
      "\n",
      "Processing Activity ID: 20200423_163426 (Running)\n",
      "  - Found 1 heart rate records for this activity.\n",
      "\n",
      "Processing Activity ID: 20200413_164825 (Running)\n",
      "  - No heart rate data found for this activity's time window.\n",
      "\n",
      "Processing Activity ID: 20170107_160800 (Running)\n",
      "  - Found 278 heart rate records for this activity.\n",
      "\n",
      "Processing Activity ID: 20210421_144931 (Running)\n",
      "  - No heart rate data found for this activity's time window.\n",
      "\n",
      "Processing Activity ID: 20200421_163847 (Running)\n",
      "  - Found 1 heart rate records for this activity.\n",
      "\n",
      "Processing Activity ID: 20210110_072329 (Running)\n",
      "  - Found 9 heart rate records for this activity.\n",
      "\n",
      "Processing Activity ID: 20200415_161028 (Running)\n",
      "  - Found 1 heart rate records for this activity.\n",
      "\n",
      "Processing Activity ID: 20201201_171148 (Running)\n",
      "  - Found 10 heart rate records for this activity.\n",
      "\n",
      "Processing Activity ID: 20201229_071829 (Running)\n",
      "  - Found 10 heart rate records for this activity.\n",
      "\n",
      "Processing Activity ID: 20210102_072424 (Running)\n",
      "  - Found 6 heart rate records for this activity.\n",
      "\n",
      "Processing Activity ID: 20201203_173334 (Running)\n",
      "  - Found 12 heart rate records for this activity.\n",
      "\n",
      "Processing Activity ID: 20201208_173801 (Running)\n",
      "  - Found 14 heart rate records for this activity.\n",
      "\n",
      "Processing Activity ID: 20201104_160226 (Running)\n",
      "  - Found 19 heart rate records for this activity.\n",
      "\n",
      "Processing Activity ID: 20201111_155723 (Running)\n",
      "  - Found 17 heart rate records for this activity.\n",
      "\n",
      "Processing Activity ID: 20201102_160954 (Running)\n",
      "  - Found 5 heart rate records for this activity.\n",
      "\n",
      "Processing Activity ID: 20200913_045320 (Running)\n",
      "  - Found 1 heart rate records for this activity.\n",
      "\n",
      "Processing Activity ID: 20200324_155246 (Running)\n",
      "  - Found 3 heart rate records for this activity.\n",
      "\n",
      "Processing Activity ID: 20210413_085523 (Running)\n",
      "  - No heart rate data found for this activity's time window.\n",
      "\n",
      "Processing Activity ID: 20200330_162248 (Running)\n",
      "  - Found 1 heart rate records for this activity.\n",
      "\n",
      "Processing Activity ID: 20210131_113348 (Running)\n",
      "  - No heart rate data found for this activity's time window.\n",
      "\n",
      "Processing Activity ID: 20201117_110609 (Running)\n",
      "  - Found 2 heart rate records for this activity.\n",
      "\n",
      "Processing Activity ID: 20210104_072858 (Running)\n",
      "  - Found 10 heart rate records for this activity.\n",
      "\n",
      "Processing Activity ID: 20210526_104454 (Running)\n",
      "  - Found 16 heart rate records for this activity.\n",
      "\n",
      "Processing Activity ID: 20201026_161159 (Running)\n",
      "  - Found 27 heart rate records for this activity.\n",
      "\n",
      "Processing Activity ID: 20211014_191046 (Running)\n",
      "  - Found 10 heart rate records for this activity.\n",
      "\n",
      "Processing Activity ID: 20210811_185932 (Running)\n",
      "  - Found 22 heart rate records for this activity.\n",
      "\n",
      "Processing Activity ID: 20211010_172240 (Running)\n",
      "  - Found 32 heart rate records for this activity.\n",
      "\n",
      "Processing Activity ID: 20211008_171054 (Running)\n",
      "  - Found 28 heart rate records for this activity.\n",
      "\n",
      "Processing Activity ID: 20211014_183740 (Running)\n",
      "  - Found 19 heart rate records for this activity.\n",
      "\n",
      "Processing Activity ID: 20210808_182559 (Running)\n",
      "  - Found 20 heart rate records for this activity.\n",
      "\n",
      "Processing Activity ID: 20211012_184248 (Running)\n",
      "  - Found 54 heart rate records for this activity.\n",
      "\n",
      "Processing Activity ID: 20210801_170052 (Running)\n",
      "  - Found 24 heart rate records for this activity.\n",
      "\n",
      "Processing Activity ID: 20211118_031922 (Running)\n",
      "  - Found 25 heart rate records for this activity.\n",
      "\n",
      "Processing Activity ID: 20211111_190312 (Running)\n",
      "  - Found 21 heart rate records for this activity.\n",
      "\n",
      "Processing Activity ID: 20211118_035559 (Running)\n",
      "  - Found 26 heart rate records for this activity.\n",
      "\n",
      "Processing Activity ID: 20211028_184855 (Running)\n",
      "  - Found 37 heart rate records for this activity.\n",
      "\n",
      "Processing Activity ID: 20211111_183945 (Running)\n",
      "  - Found 23 heart rate records for this activity.\n",
      "\n",
      "Processing Activity ID: 20211123_154605 (Running)\n",
      "  - Found 19 heart rate records for this activity.\n",
      "\n",
      "Processing Activity ID: 20211130_185716 (Running)\n",
      "  - Found 26 heart rate records for this activity.\n",
      "\n",
      "Processing Activity ID: 20211202_185212 (Running)\n",
      "  - Found 23 heart rate records for this activity.\n",
      "\n",
      "Processing Activity ID: 20211207_191003 (Running)\n",
      "  - Found 8 heart rate records for this activity.\n",
      "\n",
      "Processing Activity ID: 20211207_184009 (Running)\n",
      "  - Found 19 heart rate records for this activity.\n",
      "\n",
      "Processing Activity ID: 20211209_184817 (Running)\n",
      "  - Found 17 heart rate records for this activity.\n",
      "\n",
      "Processing Activity ID: 20211211_090144 (Running)\n",
      "  - Found 17 heart rate records for this activity.\n",
      "\n",
      "Processing Activity ID: 20211214_184105 (Running)\n",
      "  - Found 12 heart rate records for this activity.\n",
      "\n",
      "Processing Activity ID: 20211214_185916 (Running)\n",
      "  - Found 24 heart rate records for this activity.\n",
      "\n",
      "Processing Activity ID: 20211216_183658 (Running)\n",
      "  - Found 38 heart rate records for this activity.\n",
      "\n",
      "Processing Activity ID: 20211222_155803 (Running)\n",
      "  - Found 41 heart rate records for this activity.\n",
      "\n",
      "Processing Activity ID: 20211224_152600 (Running)\n",
      "  - Found 43 heart rate records for this activity.\n",
      "\n",
      "Processing Activity ID: 20220104_004433 (Running)\n",
      "  - Found 1 heart rate records for this activity.\n",
      "\n",
      "Processing Activity ID: 20220118_183808 (Running)\n",
      "  - Found 5 heart rate records for this activity.\n",
      "\n",
      "Processing Activity ID: 20220118_190127 (Running)\n",
      "  - Found 4 heart rate records for this activity.\n",
      "\n",
      "Processing Activity ID: 20220123_105717 (Running)\n",
      "  - Found 4 heart rate records for this activity.\n",
      "\n",
      "Processing Activity ID: 20220125_184940 (Running)\n",
      "  - Found 13 heart rate records for this activity.\n",
      "\n",
      "Processing Activity ID: 20220125_184845 (Running)\n",
      "  - No heart rate data found for this activity's time window.\n",
      "\n",
      "Processing Activity ID: 20220129_163014 (Running)\n",
      "  - Found 14 heart rate records for this activity.\n",
      "\n",
      "Processing Activity ID: 20220201_183756 (Running)\n",
      "  - Found 34 heart rate records for this activity.\n",
      "\n",
      "Processing Activity ID: 20220203_183622 (Running)\n",
      "  - Found 7 heart rate records for this activity.\n",
      "\n",
      "Processing Activity ID: 20220203_184758 (Running)\n",
      "  - Found 15 heart rate records for this activity.\n",
      "\n",
      "Processing Activity ID: 20220205_090328 (Running)\n",
      "  - Found 18 heart rate records for this activity.\n",
      "\n",
      "Processing Activity ID: 20220210_190256 (Running)\n",
      "  - Found 13 heart rate records for this activity.\n",
      "\n",
      "Processing Activity ID: 20220210_184953 (Running)\n",
      "  - Found 6 heart rate records for this activity.\n",
      "\n",
      "Processing Activity ID: 20220224_191250 (Running)\n",
      "  - Found 11 heart rate records for this activity.\n",
      "\n",
      "Processing Activity ID: 20220224_183922 (Running)\n",
      "  - Found 22 heart rate records for this activity.\n",
      "\n",
      "Processing Activity ID: 20220227_173513 (Running)\n",
      "  - Found 33 heart rate records for this activity.\n",
      "\n",
      "Processing Activity ID: 20220303_184019 (Running)\n",
      "  - Found 33 heart rate records for this activity.\n",
      "\n",
      "Processing Activity ID: 20220303_191019 (Running)\n",
      "  - Found 33 heart rate records for this activity.\n",
      "\n",
      "Processing Activity ID: 20220310_184323 (Running)\n",
      "  - Found 25 heart rate records for this activity.\n",
      "\n",
      "Processing Activity ID: 20220310_190612 (Running)\n",
      "  - Found 28 heart rate records for this activity.\n",
      "\n",
      "Processing Activity ID: 20220315_165037 (Running)\n",
      "  - Found 26 heart rate records for this activity.\n",
      "\n",
      "Processing Activity ID: 20220317_183907 (Running)\n",
      "  - Found 22 heart rate records for this activity.\n",
      "\n",
      "Processing Activity ID: 20220331_183829 (Running)\n",
      "  - Found 4 heart rate records for this activity.\n",
      "\n",
      "Processing Activity ID: 20220331_190908 (Running)\n",
      "  - Found 4 heart rate records for this activity.\n",
      "\n",
      "Processing Activity ID: 20230117_183052 (Running)\n",
      "  - Found 493 heart rate records for this activity.\n",
      "\n",
      "Processing Activity ID: 20230131_184659 (Running)\n",
      "  - Found 1428 heart rate records for this activity.\n",
      "\n",
      "Processing Activity ID: 20230131_180233 (Running)\n",
      "  - Found 608 heart rate records for this activity.\n",
      "\n",
      "Processing Activity ID: 20230207_180731 (Running)\n",
      "  - Found 643 heart rate records for this activity.\n",
      "\n",
      "Processing Activity ID: 20230207_184301 (Running)\n",
      "  - Found 1808 heart rate records for this activity.\n",
      "\n",
      "Processing Activity ID: 20230209_184051 (Running)\n",
      "  - Found 1542 heart rate records for this activity.\n",
      "\n",
      "Processing Activity ID: 20230214_181128 (Running)\n",
      "  - Found 564 heart rate records for this activity.\n",
      "\n",
      "Processing Activity ID: 20230214_184355 (Running)\n",
      "  - Found 1646 heart rate records for this activity.\n",
      "\n",
      "Processing Activity ID: 20230216_181409 (Running)\n",
      "  - Found 583 heart rate records for this activity.\n",
      "\n",
      "Processing Activity ID: 20230216_184227 (Running)\n",
      "  - Found 2122 heart rate records for this activity.\n",
      "\n",
      "Processing Activity ID: 20230221_175542 (Running)\n",
      "  - Found 536 heart rate records for this activity.\n",
      "\n",
      "Processing Activity ID: 20230221_182917 (Running)\n",
      "  - Found 1469 heart rate records for this activity.\n",
      "\n",
      "Processing Activity ID: 20230223_183944 (Running)\n",
      "  - Found 1757 heart rate records for this activity.\n",
      "\n",
      "Processing Activity ID: 20230223_181222 (Running)\n",
      "  - Found 400 heart rate records for this activity.\n",
      "\n",
      "Processing Activity ID: 20230228_181330 (Running)\n",
      "  - Found 433 heart rate records for this activity.\n",
      "\n",
      "Processing Activity ID: 20230228_185046 (Running)\n",
      "  - Found 1402 heart rate records for this activity.\n",
      "\n",
      "Processing Activity ID: 20230302_181217 (Running)\n",
      "  - Found 372 heart rate records for this activity.\n",
      "\n",
      "Processing Activity ID: 20230302_184115 (Running)\n",
      "  - Found 1454 heart rate records for this activity.\n",
      "\n",
      "Processing Activity ID: 20230307_181909 (Running)\n",
      "  - Found 387 heart rate records for this activity.\n",
      "\n",
      "Processing Activity ID: 20230307_184353 (Running)\n",
      "  - Found 991 heart rate records for this activity.\n",
      "\n",
      "Processing Activity ID: 20230309_181545 (Running)\n",
      "  - Found 259 heart rate records for this activity.\n",
      "\n",
      "Processing Activity ID: 20230309_184056 (Running)\n",
      "  - Found 1167 heart rate records for this activity.\n",
      "\n",
      "Processing Activity ID: 20230314_182220 (Running)\n",
      "  - Found 314 heart rate records for this activity.\n",
      "\n",
      "Processing Activity ID: 20230316_182426 (Running)\n",
      "  - Found 274 heart rate records for this activity.\n",
      "\n",
      "Processing Activity ID: 20230316_184220 (Running)\n",
      "  - Found 977 heart rate records for this activity.\n",
      "\n",
      "Processing Activity ID: 20230314_184458 (Running)\n",
      "  - Found 818 heart rate records for this activity.\n",
      "\n",
      "Processing Activity ID: 20230321_182129 (Running)\n",
      "  - Found 221 heart rate records for this activity.\n",
      "\n",
      "Processing Activity ID: 20230321_184638 (Running)\n",
      "  - Found 603 heart rate records for this activity.\n",
      "\n",
      "Processing Activity ID: 20230321_214257 (Running)\n",
      "  - Found 240 heart rate records for this activity.\n",
      "\n",
      "Processing Activity ID: 20230325_124353 (Running)\n",
      "  - Found 225 heart rate records for this activity.\n",
      "\n",
      "Processing Activity ID: 20230425_184430 (Running)\n",
      "  - Found 724 heart rate records for this activity.\n",
      "\n",
      "Processing Activity ID: 20230427_182436 (Running)\n",
      "  - Found 624 heart rate records for this activity.\n",
      "\n",
      "Processing Activity ID: 20230502_182828 (Running)\n",
      "  - Found 164 heart rate records for this activity.\n",
      "\n",
      "Processing Activity ID: 20230502_205406 (Running)\n",
      "  - Found 355 heart rate records for this activity.\n",
      "\n",
      "Processing Activity ID: 20230502_184634 (Running)\n",
      "  - Found 685 heart rate records for this activity.\n",
      "\n",
      "Processing Activity ID: 20230504_182240 (Running)\n",
      "  - Found 186 heart rate records for this activity.\n",
      "\n",
      "Processing Activity ID: 20230504_184140 (Running)\n",
      "  - Found 1098 heart rate records for this activity.\n",
      "\n",
      "Processing Activity ID: 20230509_181732 (Running)\n",
      "  - Found 274 heart rate records for this activity.\n",
      "\n",
      "Processing Activity ID: 20230509_184142 (Running)\n",
      "  - Found 820 heart rate records for this activity.\n",
      "\n",
      "Processing Activity ID: 20230511_181810 (Running)\n",
      "  - Found 235 heart rate records for this activity.\n",
      "\n",
      "Processing Activity ID: 20230511_184334 (Running)\n",
      "  - Found 958 heart rate records for this activity.\n",
      "\n",
      "Processing Activity ID: 20230620_171406 (Running)\n",
      "  - Found 1079 heart rate records for this activity.\n",
      "\n",
      "Processing Activity ID: 20230828_100542 (Running)\n",
      "  - Found 205 heart rate records for this activity.\n",
      "\n",
      "Processing Activity ID: 20230912_120933 (Running)\n",
      "  - Found 200 heart rate records for this activity.\n",
      "\n",
      "Processing Activity ID: 20230912_123012 (Running)\n",
      "  - Found 701 heart rate records for this activity.\n",
      "\n",
      "Processing Activity ID: 20230923_170614 (Running)\n",
      "  - Found 777 heart rate records for this activity.\n",
      "\n",
      "Processing Activity ID: 20231001_170052 (Running)\n",
      "  - Found 1041 heart rate records for this activity.\n",
      "\n",
      "Processing Activity ID: 20231012_125922 (Running)\n",
      "  - Found 219 heart rate records for this activity.\n",
      "\n",
      "Processing Activity ID: 20231012_121847 (Running)\n",
      "  - Found 1029 heart rate records for this activity.\n",
      "\n",
      "Processing Activity ID: 20231108_122104 (Running)\n",
      "  - Found 164 heart rate records for this activity.\n",
      "\n",
      "Processing Activity ID: 20231108_122918 (Running)\n",
      "  - Found 709 heart rate records for this activity.\n",
      "\n",
      "Processing Activity ID: 20231108_125921 (Running)\n",
      "  - Found 164 heart rate records for this activity.\n",
      "\n",
      "Processing Activity ID: 20231129_122045 (Running)\n",
      "  - Found 142 heart rate records for this activity.\n",
      "\n",
      "Processing Activity ID: 20231129_130233 (Running)\n",
      "  - Found 187 heart rate records for this activity.\n",
      "\n",
      "Processing Activity ID: 20231129_123219 (Running)\n",
      "  - Found 747 heart rate records for this activity.\n",
      "\n",
      "Processing Activity ID: 20240505_165734 (Running)\n",
      "  - Found 2 heart rate records for this activity.\n",
      "\n",
      "Processing Activity ID: 20240813_110027 (Running)\n",
      "  - Found 609 heart rate records for this activity.\n",
      "\n",
      "Processing Activity ID: 20241003_193439 (Running)\n",
      "  - Found 308 heart rate records for this activity.\n",
      "\n",
      "Processing Activity ID: 20240926_174723 (Running)\n",
      "  - Found 550 heart rate records for this activity.\n",
      "\n",
      "Processing Activity ID: 20241003_181024 (Running)\n",
      "  - Found 188 heart rate records for this activity.\n",
      "\n",
      "Processing Activity ID: 20241017_181843 (Running)\n",
      "  - Found 222 heart rate records for this activity.\n",
      "\n",
      "Processing Activity ID: 20241017_195756 (Running)\n",
      "  - Found 285 heart rate records for this activity.\n",
      "\n",
      "Processing Activity ID: 20241024_181804 (Running)\n",
      "  - Found 375 heart rate records for this activity.\n",
      "\n",
      "Processing Activity ID: 20241029_182347 (Running)\n",
      "  - Found 275 heart rate records for this activity.\n",
      "\n",
      "Processing Activity ID: 20241010_181112 (Running)\n",
      "  - Found 210 heart rate records for this activity.\n",
      "\n",
      "Processing Activity ID: 20241107_182118 (Running)\n",
      "  - Found 357 heart rate records for this activity.\n",
      "\n",
      "Processing Activity ID: 20241112_184435 (Running)\n",
      "  - Found 725 heart rate records for this activity.\n",
      "\n",
      "Processing Activity ID: 20241121_182550 (Running)\n",
      "  - Found 199 heart rate records for this activity.\n",
      "\n",
      "Processing Activity ID: 20241121_185052 (Running)\n",
      "  - Found 1006 heart rate records for this activity.\n",
      "\n",
      "Processing Activity ID: 20241128_182934 (Running)\n",
      "  - Found 175 heart rate records for this activity.\n",
      "\n",
      "Processing Activity ID: 20241128_184110 (Running)\n",
      "  - Found 1042 heart rate records for this activity.\n",
      "\n",
      "Processing Activity ID: 20241128_194749 (Running)\n",
      "  - Found 244 heart rate records for this activity.\n",
      "\n",
      "Processing Activity ID: 20241205_190928 (Running)\n",
      "  - Found 1628 heart rate records for this activity.\n",
      "\n",
      "Processing Activity ID: 20241203_184302 (Running)\n",
      "  - Found 705 heart rate records for this activity.\n",
      "\n",
      "Processing Activity ID: 20241228_132454 (Running)\n",
      "  - Found 2178 heart rate records for this activity.\n",
      "\n",
      "Processing Activity ID: 20241226_112646 (Running)\n",
      "  - Found 771 heart rate records for this activity.\n",
      "\n",
      "Processing Activity ID: 20241225_111706 (Running)\n",
      "  - Found 694 heart rate records for this activity.\n",
      "\n",
      "Processing Activity ID: 20241224_105217 (Running)\n",
      "  - Found 640 heart rate records for this activity.\n",
      "\n",
      "Processing Activity ID: 20241231_105256 (Running)\n",
      "  - Found 1051 heart rate records for this activity.\n",
      "\n",
      "Processing Activity ID: 20241231_105347 (Running)\n",
      "  - Found 782 heart rate records for this activity.\n",
      "\n",
      "Processing Activity ID: 20250114_155939 (Running)\n",
      "  - Found 1174 heart rate records for this activity.\n",
      "\n",
      "Processing Activity ID: 20250115_160548 (Running)\n",
      "  - Found 1652 heart rate records for this activity.\n",
      "\n",
      "Processing Activity ID: 20250116_161045 (Running)\n",
      "  - Found 1053 heart rate records for this activity.\n",
      "\n",
      "Processing Activity ID: 20250118_120122 (Running)\n",
      "  - Found 3719 heart rate records for this activity.\n",
      "\n",
      "Processing Activity ID: 20250121_160154 (Running)\n",
      "  - Found 1324 heart rate records for this activity.\n",
      "\n",
      "Processing Activity ID: 20250123_172755 (Running)\n",
      "  - Found 1239 heart rate records for this activity.\n",
      "\n",
      "Processing Activity ID: 20250122_155625 (Running)\n",
      "  - Found 2095 heart rate records for this activity.\n",
      "\n",
      "Processing Activity ID: 20250123_184849 (Running)\n",
      "  - Found 298 heart rate records for this activity.\n",
      "\n",
      "Processing Activity ID: 20250128_184909 (Running)\n",
      "  - Found 1324 heart rate records for this activity.\n",
      "\n",
      "Processing Activity ID: 20250125_132059 (Running)\n",
      "  - Found 3381 heart rate records for this activity.\n",
      "\n",
      "Processing Activity ID: 20250130_190427 (Running)\n",
      "  - Found 1184 heart rate records for this activity.\n",
      "\n",
      "Processing Activity ID: 20250129_182906 (Running)\n",
      "  - Found 1897 heart rate records for this activity.\n",
      "\n",
      "Processing Activity ID: 20250202_121831 (Running)\n",
      "  - Found 2893 heart rate records for this activity.\n",
      "\n",
      "Processing Activity ID: 20250204_092046 (Running)\n",
      "  - Found 1326 heart rate records for this activity.\n",
      "\n",
      "Processing Activity ID: 20250205_184733 (Running)\n",
      "  - Found 1284 heart rate records for this activity.\n",
      "\n",
      "Processing Activity ID: 20250209_114831 (Running)\n",
      "  - Found 2448 heart rate records for this activity.\n",
      "\n",
      "Processing Activity ID: 20250206_183254 (Running)\n",
      "  - Found 2628 heart rate records for this activity.\n",
      "\n",
      "Processing Activity ID: 20250211_184404 (Running)\n",
      "  - Found 1845 heart rate records for this activity.\n",
      "\n",
      "Processing Activity ID: 20250212_183700 (Running)\n",
      "  - Found 2248 heart rate records for this activity.\n",
      "\n",
      "Processing Activity ID: 20250213_185445 (Running)\n",
      "  - Found 809 heart rate records for this activity.\n",
      "\n",
      "Processing Activity ID: 20250213_195257 (Running)\n",
      "  - Found 400 heart rate records for this activity.\n",
      "\n",
      "Processing Activity ID: 20250216_121627 (Running)\n",
      "  - Found 2013 heart rate records for this activity.\n",
      "\n",
      "Processing Activity ID: 20250218_184736 (Running)\n",
      "  - Found 1852 heart rate records for this activity.\n",
      "\n",
      "Processing Activity ID: 20250219_185522 (Running)\n",
      "  - Found 1792 heart rate records for this activity.\n",
      "\n",
      "Processing Activity ID: 20250220_194239 (Running)\n",
      "  - Found 589 heart rate records for this activity.\n",
      "\n",
      "Processing Activity ID: 20250220_184359 (Running)\n",
      "  - Found 724 heart rate records for this activity.\n",
      "\n",
      "Processing Activity ID: 20250226_102333 (Running)\n",
      "  - Found 1202 heart rate records for this activity.\n",
      "\n",
      "Processing Activity ID: 20250225_184831 (Running)\n",
      "  - Found 1441 heart rate records for this activity.\n",
      "\n",
      "Processing Activity ID: 20250222_154157 (Running)\n",
      "  - Found 1612 heart rate records for this activity.\n",
      "\n",
      "Processing Activity ID: 20250227_183946 (Running)\n",
      "  - Found 1316 heart rate records for this activity.\n",
      "\n",
      "Processing Activity ID: 20250301_183423 (Running)\n",
      "  - Found 1208 heart rate records for this activity.\n",
      "\n",
      "Processing Activity ID: 20250313_192423 (Running)\n",
      "  - Found 399 heart rate records for this activity.\n",
      "\n",
      "Processing Activity ID: 20250311_190809 (Running)\n",
      "  - Found 532 heart rate records for this activity.\n",
      "\n",
      "Processing Activity ID: 20250312_190905 (Running)\n",
      "  - Found 460 heart rate records for this activity.\n",
      "\n",
      "Processing Activity ID: 20250318_191238 (Running)\n",
      "  - Found 66 heart rate records for this activity.\n",
      "\n",
      "Processing Activity ID: 20250315_192045 (Running)\n",
      "  - Found 254 heart rate records for this activity.\n",
      "\n",
      "Processing Activity ID: 20250319_191837 (Running)\n",
      "  - Found 1 heart rate records for this activity.\n",
      "\n",
      "Processing complete.\n",
      "\n",
      "--- Inspecting a sample of raw Samsung Heart Rate data before TRIMP calculation ---\n",
      "Inspecting HR data for Activity ID: 20191004_160055\n",
      "Sample of HR data being sent to 'engineer_samsung_features':\n"
     ]
    },
    {
     "data": {
      "text/html": [
       "<div>\n",
       "<style scoped>\n",
       "    .dataframe tbody tr th:only-of-type {\n",
       "        vertical-align: middle;\n",
       "    }\n",
       "\n",
       "    .dataframe tbody tr th {\n",
       "        vertical-align: top;\n",
       "    }\n",
       "\n",
       "    .dataframe thead th {\n",
       "        text-align: right;\n",
       "    }\n",
       "</style>\n",
       "<table border=\"1\" class=\"dataframe\">\n",
       "  <thead>\n",
       "    <tr style=\"text-align: right;\">\n",
       "      <th></th>\n",
       "      <th>timestamp</th>\n",
       "      <th>heart_rate_bpm</th>\n",
       "    </tr>\n",
       "  </thead>\n",
       "  <tbody>\n",
       "    <tr>\n",
       "      <th>278</th>\n",
       "      <td>2019-10-04 16:26:15+00:00</td>\n",
       "      <td>170.0</td>\n",
       "    </tr>\n",
       "    <tr>\n",
       "      <th>279</th>\n",
       "      <td>2019-10-05 09:21:03+00:00</td>\n",
       "      <td>175.0</td>\n",
       "    </tr>\n",
       "    <tr>\n",
       "      <th>280</th>\n",
       "      <td>2019-10-05 15:51:03+00:00</td>\n",
       "      <td>97.0</td>\n",
       "    </tr>\n",
       "    <tr>\n",
       "      <th>281</th>\n",
       "      <td>2019-10-05 17:30:48+00:00</td>\n",
       "      <td>98.0</td>\n",
       "    </tr>\n",
       "    <tr>\n",
       "      <th>282</th>\n",
       "      <td>2019-10-05 17:50:57+00:00</td>\n",
       "      <td>94.0</td>\n",
       "    </tr>\n",
       "  </tbody>\n",
       "</table>\n",
       "</div>"
      ],
      "text/plain": [
       "                    timestamp  heart_rate_bpm\n",
       "278 2019-10-04 16:26:15+00:00           170.0\n",
       "279 2019-10-05 09:21:03+00:00           175.0\n",
       "280 2019-10-05 15:51:03+00:00            97.0\n",
       "281 2019-10-05 17:30:48+00:00            98.0\n",
       "282 2019-10-05 17:50:57+00:00            94.0"
      ]
     },
     "metadata": {},
     "output_type": "display_data"
    },
    {
     "name": "stdout",
     "output_type": "stream",
     "text": [
      "Successfully processed 216 activities from Samsung Health.\n"
     ]
    },
    {
     "data": {
      "text/html": [
       "<div>\n",
       "<style scoped>\n",
       "    .dataframe tbody tr th:only-of-type {\n",
       "        vertical-align: middle;\n",
       "    }\n",
       "\n",
       "    .dataframe tbody tr th {\n",
       "        vertical-align: top;\n",
       "    }\n",
       "\n",
       "    .dataframe thead th {\n",
       "        text-align: right;\n",
       "    }\n",
       "</style>\n",
       "<table border=\"1\" class=\"dataframe\">\n",
       "  <thead>\n",
       "    <tr style=\"text-align: right;\">\n",
       "      <th></th>\n",
       "      <th>Activity ID</th>\n",
       "      <th>Activity Date</th>\n",
       "      <th>Activity Type</th>\n",
       "      <th>Elapsed Time</th>\n",
       "      <th>Distance</th>\n",
       "      <th>Calories</th>\n",
       "      <th>Filename</th>\n",
       "      <th>time_in_hr_zones_s</th>\n",
       "      <th>training_load_hr</th>\n",
       "      <th>avg_heart_rate_bpm</th>\n",
       "      <th>training_load_pace</th>\n",
       "      <th>pace_variability_std</th>\n",
       "      <th>time_in_pace_zones_s</th>\n",
       "      <th>Source</th>\n",
       "    </tr>\n",
       "  </thead>\n",
       "  <tbody>\n",
       "    <tr>\n",
       "      <th>0</th>\n",
       "      <td>20191004_160055</td>\n",
       "      <td>2019-10-04 16:00:55+00:00</td>\n",
       "      <td>Run</td>\n",
       "      <td>1434540</td>\n",
       "      <td>2.832638</td>\n",
       "      <td>163.050003</td>\n",
       "      <td>None</td>\n",
       "      <td>{'Z1_VeryLight': 110611.0, 'Z2_Light': 56362.0...</td>\n",
       "      <td>69999.18</td>\n",
       "      <td>163.3</td>\n",
       "      <td>0.0</td>\n",
       "      <td>0.0</td>\n",
       "      <td>{}</td>\n",
       "      <td>Samsung Health</td>\n",
       "    </tr>\n",
       "    <tr>\n",
       "      <th>1</th>\n",
       "      <td>20191030_164032</td>\n",
       "      <td>2019-10-30 16:40:32+00:00</td>\n",
       "      <td>Run</td>\n",
       "      <td>1131590</td>\n",
       "      <td>2.175484</td>\n",
       "      <td>127.610001</td>\n",
       "      <td>None</td>\n",
       "      <td>{'Z1_VeryLight': 0.0, 'Z2_Light': 0.0, 'Z3_Mod...</td>\n",
       "      <td>65469.72</td>\n",
       "      <td>176.1</td>\n",
       "      <td>0.0</td>\n",
       "      <td>0.0</td>\n",
       "      <td>{}</td>\n",
       "      <td>Samsung Health</td>\n",
       "    </tr>\n",
       "    <tr>\n",
       "      <th>2</th>\n",
       "      <td>20190911_162329</td>\n",
       "      <td>2019-09-11 16:23:29+00:00</td>\n",
       "      <td>Run</td>\n",
       "      <td>1208220</td>\n",
       "      <td>2.271621</td>\n",
       "      <td>161.279999</td>\n",
       "      <td>None</td>\n",
       "      <td>{'Z1_VeryLight': 3006.0, 'Z2_Light': 0.0, 'Z3_...</td>\n",
       "      <td>83438.53</td>\n",
       "      <td>172.1</td>\n",
       "      <td>0.0</td>\n",
       "      <td>0.0</td>\n",
       "      <td>{}</td>\n",
       "      <td>Samsung Health</td>\n",
       "    </tr>\n",
       "    <tr>\n",
       "      <th>3</th>\n",
       "      <td>20191101_154416</td>\n",
       "      <td>2019-11-01 15:44:16+00:00</td>\n",
       "      <td>Run</td>\n",
       "      <td>1380120</td>\n",
       "      <td>2.407817</td>\n",
       "      <td>133.570007</td>\n",
       "      <td>None</td>\n",
       "      <td>{'Z1_VeryLight': 49201.0, 'Z2_Light': 0.0, 'Z3...</td>\n",
       "      <td>56589.02</td>\n",
       "      <td>172.0</td>\n",
       "      <td>0.0</td>\n",
       "      <td>0.0</td>\n",
       "      <td>{}</td>\n",
       "      <td>Samsung Health</td>\n",
       "    </tr>\n",
       "    <tr>\n",
       "      <th>4</th>\n",
       "      <td>20190904_161928</td>\n",
       "      <td>2019-09-04 16:19:28+00:00</td>\n",
       "      <td>Run</td>\n",
       "      <td>926740</td>\n",
       "      <td>1.843178</td>\n",
       "      <td>134.529999</td>\n",
       "      <td>None</td>\n",
       "      <td>{'Z1_VeryLight': 209401.0, 'Z2_Light': 0.0, 'Z...</td>\n",
       "      <td>47531.98</td>\n",
       "      <td>170.9</td>\n",
       "      <td>0.0</td>\n",
       "      <td>0.0</td>\n",
       "      <td>{}</td>\n",
       "      <td>Samsung Health</td>\n",
       "    </tr>\n",
       "  </tbody>\n",
       "</table>\n",
       "</div>"
      ],
      "text/plain": [
       "       Activity ID             Activity Date Activity Type  Elapsed Time  \\\n",
       "0  20191004_160055 2019-10-04 16:00:55+00:00           Run       1434540   \n",
       "1  20191030_164032 2019-10-30 16:40:32+00:00           Run       1131590   \n",
       "2  20190911_162329 2019-09-11 16:23:29+00:00           Run       1208220   \n",
       "3  20191101_154416 2019-11-01 15:44:16+00:00           Run       1380120   \n",
       "4  20190904_161928 2019-09-04 16:19:28+00:00           Run        926740   \n",
       "\n",
       "   Distance    Calories Filename  \\\n",
       "0  2.832638  163.050003     None   \n",
       "1  2.175484  127.610001     None   \n",
       "2  2.271621  161.279999     None   \n",
       "3  2.407817  133.570007     None   \n",
       "4  1.843178  134.529999     None   \n",
       "\n",
       "                                  time_in_hr_zones_s  training_load_hr  \\\n",
       "0  {'Z1_VeryLight': 110611.0, 'Z2_Light': 56362.0...          69999.18   \n",
       "1  {'Z1_VeryLight': 0.0, 'Z2_Light': 0.0, 'Z3_Mod...          65469.72   \n",
       "2  {'Z1_VeryLight': 3006.0, 'Z2_Light': 0.0, 'Z3_...          83438.53   \n",
       "3  {'Z1_VeryLight': 49201.0, 'Z2_Light': 0.0, 'Z3...          56589.02   \n",
       "4  {'Z1_VeryLight': 209401.0, 'Z2_Light': 0.0, 'Z...          47531.98   \n",
       "\n",
       "   avg_heart_rate_bpm  training_load_pace  pace_variability_std  \\\n",
       "0               163.3                 0.0                   0.0   \n",
       "1               176.1                 0.0                   0.0   \n",
       "2               172.1                 0.0                   0.0   \n",
       "3               172.0                 0.0                   0.0   \n",
       "4               170.9                 0.0                   0.0   \n",
       "\n",
       "  time_in_pace_zones_s          Source  \n",
       "0                   {}  Samsung Health  \n",
       "1                   {}  Samsung Health  \n",
       "2                   {}  Samsung Health  \n",
       "3                   {}  Samsung Health  \n",
       "4                   {}  Samsung Health  "
      ]
     },
     "metadata": {},
     "output_type": "display_data"
    }
   ],
   "source": [
    "# --- 3. Process Samsung Health Data ---\n",
    "print(\"\\n\" + \"=\"*25)\n",
    "print(\"Processing Samsung Health Data\")\n",
    "print(\"=\"*25)\n",
    "try:\n",
    "    samsung_data = organise_samsung_data(samsung_path)\n",
    "\n",
    "    # --- DIAGNOSTIC: Inspect a sample of Samsung HR data ---\n",
    "    print(\"\\n--- Inspecting a sample of raw Samsung Heart Rate data before TRIMP calculation ---\")\n",
    "    inspected_samsung_hr = False\n",
    "    # --- End of Diagnostic ---\n",
    "\n",
    "    for activity_id, activity_data in samsung_data.items():\n",
    "        # Check if heart rate data exists and is not empty\n",
    "        if activity_data.get('heart_rate_data') is not None and not activity_data['heart_rate_data'].empty:\n",
    "            \n",
    "            # --- DIAGNOSTIC: Print first few HR values for one activity ---\n",
    "            if not inspected_samsung_hr:\n",
    "                print(f\"Inspecting HR data for Activity ID: {activity_id}\")\n",
    "                print(\"Sample of HR data being sent to 'engineer_samsung_features':\")\n",
    "                display(activity_data['heart_rate_data'].head())\n",
    "                inspected_samsung_hr = True\n",
    "            # --- End of Diagnostic ---\n",
    "\n",
    "            features = engineer_samsung_features(activity_data['heart_rate_data'])\n",
    "            activity_data['metadata'].update(features)\n",
    "            \n",
    "    samsung_metadata = [d['metadata'] for d in samsung_data.values()]\n",
    "    samsung_df = pd.DataFrame(samsung_metadata)\n",
    "    samsung_df['Source'] = 'Samsung Health'\n",
    "    print(f\"Successfully processed {len(samsung_df)} activities from Samsung Health.\")\n",
    "except Exception as e:\n",
    "    print(f\"Could not process Samsung Health data: {e}\")\n",
    "    samsung_df = pd.DataFrame()\n",
    "\n",
    "display(samsung_df.head())"
   ]
  },
  {
   "cell_type": "code",
   "execution_count": 6,
   "id": "2963566b",
   "metadata": {},
   "outputs": [
    {
     "name": "stdout",
     "output_type": "stream",
     "text": [
      "\n",
      "=========================\n",
      "Intelligently Merging Data Sources\n",
      "=========================\n",
      "\n",
      "=========================\n",
      "Pre-Merge Date Sanity Check\n",
      "=========================\n",
      "\n",
      "--- Strava DataFrame ('left' side of merge) ---\n",
      "Date dtype: datetime64[ns, UTC]\n",
      "Number of null dates: 0\n",
      "Date range:\n",
      "  Start: 2023-10-12 11:20:45+00:00\n",
      "  End:   2025-04-27 09:40:01+00:00\n",
      "\n",
      "--- Health DataFrame ('right' side of merge) ---\n",
      "Date dtype: datetime64[ns, UTC]\n",
      "Number of null dates: 0\n",
      "Date range:\n",
      "  Start: 2017-01-07 16:08:00+00:00\n",
      "  End:   2025-06-16 14:01:19+00:00\n",
      "==================================================\n",
      "Merging Strava data with the nearest Apple/Samsung health data...\n"
     ]
    }
   ],
   "source": [
    "# --- 4. Standardise and Combine DataFrames ---\n",
    "print(\"\\n\" + \"=\"*25)\n",
    "print(\"Intelligently Merging Data Sources\")\n",
    "print(\"=\"*25)\n",
    "\n",
    "# Standardise column names across all dataframes BEFORE merging\n",
    "# This ensures consistency when we combine them.\n",
    "dataframes = {'Apple Health': apple_df, 'Strava': strava_df, 'Samsung Health': samsung_df}\n",
    "for source, df in dataframes.items():\n",
    "    if not df.empty:\n",
    "        df.rename(columns={\n",
    "            'Distance': 'Distance_km',\n",
    "            'Elapsed Time': 'Duration_s',\n",
    "            'training_load_hr': 'Training Load (HR)',\n",
    "            'training_load_pace': 'Training Load (Pace)',\n",
    "            'training_load': 'Training Load (Pace)', # For Strava\n",
    "            'avg_heart_rate_bpm': 'Avg HR'\n",
    "        }, inplace=True)\n",
    "        # Ensure Activity Date is a datetime object for merging\n",
    "        df['Activity Date'] = pd.to_datetime(df['Activity Date'], utc=True, errors='coerce', dayfirst=(source == 'Samsung Health'))\n",
    "\n",
    "# --- Create a unified \"Health\" DataFrame from Apple and Samsung ---\n",
    "# This will be our source for supplementary data like HR and Calories.\n",
    "health_df = pd.concat([apple_df, samsung_df], ignore_index=True, sort=False)\n",
    "\n",
    "# --- Prepare for Merging ---\n",
    "# We need to sort both the primary (Strava) and supplementary (Health) data by time.\n",
    "strava_df = strava_df.sort_values('Activity Date').reset_index(drop=True)\n",
    "if not health_df.empty:\n",
    "    health_df = health_df.sort_values('Activity Date').reset_index(drop=True)\n",
    "    # Select only the columns we want to take from the health data\n",
    "    health_columns_to_merge = [\n",
    "        'Activity Date', 'Avg HR', 'Calories', 'Training Load (HR)', 'Source'\n",
    "    ]\n",
    "    # Filter to only include columns that actually exist\n",
    "    health_columns_to_merge = [col for col in health_columns_to_merge if col in health_df.columns]\n",
    "    health_df_for_merge = health_df[health_columns_to_merge]\n",
    "\n",
    "# --- DIAGNOSTIC STEP: Inspect dates before merging ---\n",
    "print(\"\\n\" + \"=\"*25)\n",
    "print(\"Pre-Merge Date Sanity Check\")\n",
    "print(\"=\"*25)\n",
    "if not strava_df.empty:\n",
    "    print(\"\\n--- Strava DataFrame ('left' side of merge) ---\")\n",
    "    print(f\"Date dtype: {strava_df['Activity Date'].dtype}\")\n",
    "    print(f\"Number of null dates: {strava_df['Activity Date'].isnull().sum()}\")\n",
    "    if strava_df['Activity Date'].notnull().any():\n",
    "        print(\"Date range:\")\n",
    "        print(f\"  Start: {strava_df['Activity Date'].min()}\")\n",
    "        print(f\"  End:   {strava_df['Activity Date'].max()}\")\n",
    "else:\n",
    "    print(\"\\n--- Strava DataFrame is EMPTY ---\")\n",
    "\n",
    "if 'health_df_for_merge' in locals() and not health_df_for_merge.empty:\n",
    "    print(\"\\n--- Health DataFrame ('right' side of merge) ---\")\n",
    "    print(f\"Date dtype: {health_df_for_merge['Activity Date'].dtype}\")\n",
    "    print(f\"Number of null dates: {health_df_for_merge['Activity Date'].isnull().sum()}\")\n",
    "    if health_df_for_merge['Activity Date'].notnull().any():\n",
    "        print(\"Date range:\")\n",
    "        print(f\"  Start: {health_df_for_merge['Activity Date'].min()}\")\n",
    "        print(f\"  End:   {health_df_for_merge['Activity Date'].max()}\")\n",
    "else:\n",
    "    print(\"\\n--- Health DataFrame is EMPTY or was not created ---\")\n",
    "print(\"=\"*50)\n",
    "# --- END OF DIAGNOSTIC STEP ---\n",
    "\n",
    "# --- Perform the Merge ---\n",
    "# We use `merge_asof` to find the closest health record for each Strava activity.\n",
    "# We'll allow a small time difference (e.g., 5 minutes) to account for devices starting at slightly different times.\n",
    "if not health_df.empty and not strava_df.empty:\n",
    "    print(\"Merging Strava data with the nearest Apple/Samsung health data...\")\n",
    "    combined_df = pd.merge_asof(\n",
    "        left=strava_df,\n",
    "        right=health_df_for_merge,\n",
    "        on='Activity Date',\n",
    "        direction='nearest',\n",
    "        tolerance=pd.Timedelta('5 minutes'),\n",
    "        suffixes=('_Strava', '_Health') # Add suffixes to distinguish sources\n",
    "    )\n",
    "    # Rename the 'Source_Health' column to 'Health Data Source' to be clear\n",
    "    if 'Source_Health' in combined_df.columns:\n",
    "        combined_df.rename(columns={'Source_Health': 'Health Data Source'}, inplace=True)\n",
    "\n",
    "    # --- Prioritise Health App Calories ---\n",
    "    # As requested, we will use the calorie data exclusively from the health apps.\n",
    "    if 'Calories_Health' in combined_df.columns:\n",
    "        # Rename the column from the health apps to be the definitive 'Calories' column\n",
    "        combined_df.rename(columns={'Calories_Health': 'Calories'}, inplace=True)\n",
    "    \n",
    "    # Drop the original Strava calories column if it exists\n",
    "    if 'Calories_Strava' in combined_df.columns:\n",
    "        combined_df.drop(columns=['Calories_Strava'], inplace=True)\n",
    "\n",
    "else:\n",
    "    print(\"Not enough data sources to perform a merge. Using only Strava data.\")"
   ]
  },
  {
   "cell_type": "code",
   "execution_count": 7,
   "id": "a176ca76",
   "metadata": {},
   "outputs": [
    {
     "name": "stdout",
     "output_type": "stream",
     "text": [
      "\n",
      "Cleaning the final combined DataFrame...\n",
      "Combination and cleaning complete.\n"
     ]
    }
   ],
   "source": [
    "# --- 5. Final Cleaning and Formatting ---\n",
    "print(\"\\nCleaning the final combined DataFrame...\")\n",
    "\n",
    "# Standardize 'Activity Type'\n",
    "if 'Activity Type' in combined_df.columns:\n",
    "    combined_df['Activity Type'] = 'Run'\n",
    "\n",
    "# Sort by date\n",
    "combined_df = combined_df.sort_values(by='Activity Date', ascending=False).reset_index(drop=True)\n",
    "\n",
    "# Select and reorder the most important columns for the final view\n",
    "final_columns = [\n",
    "    'Activity Date',\n",
    "    'Source', # This will be 'Strava'\n",
    "    'Health Data Source', # This will be 'Apple Health' or 'Samsung Health'\n",
    "    'Distance_km',\n",
    "    'Duration_s',\n",
    "    'Calories',\n",
    "    'Avg HR',\n",
    "    'Training Load (HR)',\n",
    "    'Training Load (Pace)',\n",
    "    'Activity ID'\n",
    "]\n",
    "# Filter to only include columns that actually exist in the combined dataframe\n",
    "final_columns = [col for col in final_columns if col in combined_df.columns]\n",
    "combined_df = combined_df[final_columns]\n",
    "\n",
    "print(\"Combination and cleaning complete.\")"
   ]
  },
  {
   "cell_type": "code",
   "execution_count": 8,
   "id": "91a28f9d",
   "metadata": {},
   "outputs": [
    {
     "name": "stdout",
     "output_type": "stream",
     "text": [
      "\n",
      "=========================\n",
      "Filtering by Date Range\n",
      "=========================\n",
      "Filtering activities between 2024-12-23 and 2025-04-28...\n",
      "\n",
      "Found 55 activities in the specified date range.\n"
     ]
    }
   ],
   "source": [
    "# --- 6. Filter by Date Range ---\n",
    "print(\"\\n\" + \"=\"*25)\n",
    "print(\"Filtering by Date Range\")\n",
    "print(\"=\"*25)\n",
    "\n",
    "start_date_str = '2024-12-23'\n",
    "end_date_str = '2025-04-28'\n",
    "\n",
    "# Convert string dates to timezone-aware timestamps to match the 'Activity Date' column\n",
    "start_date = pd.to_datetime(start_date_str, utc=True)\n",
    "end_date = pd.to_datetime(end_date_str, utc=True)\n",
    "\n",
    "print(f\"Filtering activities between {start_date_str} and {end_date_str}...\")\n",
    "\n",
    "filtered_df = combined_df[\n",
    "    (combined_df['Activity Date'] >= start_date) & \n",
    "    (combined_df['Activity Date'] <= end_date)\n",
    "].copy()\n",
    "\n",
    "print(f\"\\nFound {len(filtered_df)} activities in the specified date range.\")"
   ]
  },
  {
   "cell_type": "code",
   "execution_count": 9,
   "id": "12774c4a",
   "metadata": {},
   "outputs": [
    {
     "name": "stdout",
     "output_type": "stream",
     "text": [
      "\n",
      "=========================\n",
      "Combined Activity Data\n",
      "=========================\n",
      "\n",
      "Total activities from all sources: 55\n",
      "\n",
      "DataFrame Info:\n",
      "<class 'pandas.core.frame.DataFrame'>\n",
      "Index: 55 entries, 0 to 54\n",
      "Data columns (total 9 columns):\n",
      " #   Column                Non-Null Count  Dtype              \n",
      "---  ------                --------------  -----              \n",
      " 0   Activity Date         55 non-null     datetime64[ns, UTC]\n",
      " 1   Health Data Source    52 non-null     object             \n",
      " 2   Distance_km           55 non-null     float64            \n",
      " 3   Duration_s            55 non-null     int64              \n",
      " 4   Calories              52 non-null     float64            \n",
      " 5   Avg HR                52 non-null     float64            \n",
      " 6   Training Load (HR)    52 non-null     float64            \n",
      " 7   Training Load (Pace)  55 non-null     float64            \n",
      " 8   Activity ID           55 non-null     int64              \n",
      "dtypes: datetime64[ns, UTC](1), float64(5), int64(2), object(1)\n",
      "memory usage: 4.3+ KB\n",
      "\n",
      "Combined DataFrame Head:\n"
     ]
    },
    {
     "data": {
      "text/html": [
       "<div>\n",
       "<style scoped>\n",
       "    .dataframe tbody tr th:only-of-type {\n",
       "        vertical-align: middle;\n",
       "    }\n",
       "\n",
       "    .dataframe tbody tr th {\n",
       "        vertical-align: top;\n",
       "    }\n",
       "\n",
       "    .dataframe thead th {\n",
       "        text-align: right;\n",
       "    }\n",
       "</style>\n",
       "<table border=\"1\" class=\"dataframe\">\n",
       "  <thead>\n",
       "    <tr style=\"text-align: right;\">\n",
       "      <th></th>\n",
       "      <th>Activity Date</th>\n",
       "      <th>Health Data Source</th>\n",
       "      <th>Distance_km</th>\n",
       "      <th>Duration_s</th>\n",
       "      <th>Calories</th>\n",
       "      <th>Avg HR</th>\n",
       "      <th>Training Load (HR)</th>\n",
       "      <th>Training Load (Pace)</th>\n",
       "      <th>Activity ID</th>\n",
       "    </tr>\n",
       "  </thead>\n",
       "  <tbody>\n",
       "    <tr>\n",
       "      <th>0</th>\n",
       "      <td>2025-04-27 09:40:01+00:00</td>\n",
       "      <td>Apple Health</td>\n",
       "      <td>42.85</td>\n",
       "      <td>17771</td>\n",
       "      <td>2308.591</td>\n",
       "      <td>164.0</td>\n",
       "      <td>1094.88</td>\n",
       "      <td>733.65</td>\n",
       "      <td>14303002789</td>\n",
       "    </tr>\n",
       "    <tr>\n",
       "      <th>1</th>\n",
       "      <td>2025-04-24 09:46:46+00:00</td>\n",
       "      <td>Apple Health</td>\n",
       "      <td>3.01</td>\n",
       "      <td>897</td>\n",
       "      <td>382.086</td>\n",
       "      <td>166.3</td>\n",
       "      <td>56.37</td>\n",
       "      <td>54.08</td>\n",
       "      <td>14270608835</td>\n",
       "    </tr>\n",
       "    <tr>\n",
       "      <th>2</th>\n",
       "      <td>2025-04-23 12:06:56+00:00</td>\n",
       "      <td>Apple Health</td>\n",
       "      <td>5.00</td>\n",
       "      <td>1589</td>\n",
       "      <td>631.058</td>\n",
       "      <td>169.0</td>\n",
       "      <td>105.05</td>\n",
       "      <td>87.87</td>\n",
       "      <td>14261920445</td>\n",
       "    </tr>\n",
       "    <tr>\n",
       "      <th>3</th>\n",
       "      <td>2025-04-22 15:28:37+00:00</td>\n",
       "      <td>Apple Health</td>\n",
       "      <td>6.50</td>\n",
       "      <td>2172</td>\n",
       "      <td>819.105</td>\n",
       "      <td>158.6</td>\n",
       "      <td>138.17</td>\n",
       "      <td>112.78</td>\n",
       "      <td>14253317714</td>\n",
       "    </tr>\n",
       "    <tr>\n",
       "      <th>4</th>\n",
       "      <td>2025-04-19 13:19:54+00:00</td>\n",
       "      <td>Apple Health</td>\n",
       "      <td>18.68</td>\n",
       "      <td>7148</td>\n",
       "      <td>2337.622</td>\n",
       "      <td>161.7</td>\n",
       "      <td>443.92</td>\n",
       "      <td>328.32</td>\n",
       "      <td>14224176526</td>\n",
       "    </tr>\n",
       "  </tbody>\n",
       "</table>\n",
       "</div>"
      ],
      "text/plain": [
       "              Activity Date Health Data Source  Distance_km  Duration_s  \\\n",
       "0 2025-04-27 09:40:01+00:00       Apple Health        42.85       17771   \n",
       "1 2025-04-24 09:46:46+00:00       Apple Health         3.01         897   \n",
       "2 2025-04-23 12:06:56+00:00       Apple Health         5.00        1589   \n",
       "3 2025-04-22 15:28:37+00:00       Apple Health         6.50        2172   \n",
       "4 2025-04-19 13:19:54+00:00       Apple Health        18.68        7148   \n",
       "\n",
       "   Calories  Avg HR  Training Load (HR)  Training Load (Pace)  Activity ID  \n",
       "0  2308.591   164.0             1094.88                733.65  14303002789  \n",
       "1   382.086   166.3               56.37                 54.08  14270608835  \n",
       "2   631.058   169.0              105.05                 87.87  14261920445  \n",
       "3   819.105   158.6              138.17                112.78  14253317714  \n",
       "4  2337.622   161.7              443.92                328.32  14224176526  "
      ]
     },
     "metadata": {},
     "output_type": "display_data"
    },
    {
     "name": "stdout",
     "output_type": "stream",
     "text": [
      "\n",
      "Value Counts per Source:\n"
     ]
    },
    {
     "data": {
      "text/plain": [
       "Health Data Source\n",
       "Samsung Health    38\n",
       "Apple Health      14\n",
       "Name: count, dtype: int64"
      ]
     },
     "metadata": {},
     "output_type": "display_data"
    }
   ],
   "source": [
    "# --- 7. Display Results ---\n",
    "print(\"\\n\" + \"=\"*25)\n",
    "print(\"Combined Activity Data\")\n",
    "print(\"=\"*25)\n",
    "\n",
    "print(f\"\\nTotal activities from all sources: {len(filtered_df)}\")\n",
    "print(\"\\nDataFrame Info:\")\n",
    "filtered_df.info()\n",
    "\n",
    "print(\"\\nCombined DataFrame Head:\")\n",
    "display(filtered_df.head())\n",
    "\n",
    "# print(\"\\nCombined DataFrame Tail:\")\n",
    "# display(filtered_df.tail())\n",
    "\n",
    "# print(\"\\nActivities with Samsung Health data:\")\n",
    "# display(filtered_df[filtered_df['Health Data Source'] == 'Samsung Health'])\n",
    "\n",
    "print(\"\\nValue Counts per Source:\")\n",
    "display(filtered_df['Health Data Source'].value_counts())"
   ]
  },
  {
   "cell_type": "markdown",
   "id": "d3458eec",
   "metadata": {},
   "source": [
    "## Exploratory Data Analysis\n",
    "Visualising the data"
   ]
  },
  {
   "cell_type": "code",
   "execution_count": 10,
   "id": "573eafd5",
   "metadata": {},
   "outputs": [
    {
     "name": "stdout",
     "output_type": "stream",
     "text": [
      "\n",
      "=========================\n",
      "Overall Training Summary\n",
      "=========================\n",
      "\n",
      "--- Pace Calculation Sanity Check ---\n",
      "Column 'Distance_km':\n",
      "  - Dtype: float64\n",
      "  - NaN values: 0\n",
      "  - Zero values: 0\n",
      "count    55.000000\n",
      "mean     10.494727\n",
      "std       7.773090\n",
      "min       3.010000\n",
      "25%       5.060000\n",
      "50%       7.410000\n",
      "75%      13.005000\n",
      "max      42.850000\n",
      "Name: Distance_km, dtype: float64\n",
      "--------------------\n",
      "Column 'Duration_s':\n",
      "  - Dtype: int64\n",
      "  - NaN values: 0\n",
      "  - Zero values: 0\n",
      "count       55.000000\n",
      "mean      3914.963636\n",
      "std       3208.605754\n",
      "min        897.000000\n",
      "25%       1863.000000\n",
      "50%       2846.000000\n",
      "75%       4743.000000\n",
      "max      17771.000000\n",
      "Name: Duration_s, dtype: float64\n",
      "--------------------\n",
      "===================================\n",
      "\n",
      "Total Runs in Period: 55\n",
      "Total Mileage: 577.21 km\n",
      "Total Time Spent Running: 59.81 hours\n",
      "Total Calories Burned: 39,652 kcal\n",
      "-------------------------\n",
      "Average Distance per Run: 10.49 km\n",
      "Overall Average Pace: 6.03 min/km\n"
     ]
    }
   ],
   "source": [
    "# --- 8. Descriptive Statistics ---\n",
    "print(\"\\n\" + \"=\"*25)\n",
    "print(\"Overall Training Summary\")\n",
    "print(\"=\"*25)\n",
    "\n",
    "if not filtered_df.empty:\n",
    "    # Make a copy to avoid SettingWithCopyWarning\n",
    "    summary_df = filtered_df.copy()\n",
    "\n",
    "    # --- Pace Calculation Sanity Check ---\n",
    "    print(\"\\n--- Pace Calculation Sanity Check ---\")\n",
    "    pace_cols = ['Distance_km', 'Duration_s']\n",
    "    for col in pace_cols:\n",
    "        if col in summary_df.columns:\n",
    "            print(f\"Column '{col}':\")\n",
    "            print(f\"  - Dtype: {summary_df[col].dtype}\")\n",
    "            print(f\"  - NaN values: {summary_df[col].isnull().sum()}\")\n",
    "            if pd.api.types.is_numeric_dtype(summary_df[col]):\n",
    "                print(f\"  - Zero values: {(summary_df[col] == 0).sum()}\")\n",
    "            print(summary_df[col].describe())\n",
    "            print(\"-\" * 20)\n",
    "        else:\n",
    "            print(f\"!!! Column '{col}' NOT FOUND in DataFrame. !!!\")\n",
    "    print(\"=\"*35)\n",
    "    # --- End of Sanity Check ---\n",
    "    \n",
    "    # Calculate Pace in min/km, ensuring both distance and duration are valid\n",
    "    summary_df['Pace (min/km)'] = np.nan\n",
    "    if 'Distance_km' in summary_df.columns and 'Duration_s' in summary_df.columns:\n",
    "        valid_pace_mask = (summary_df['Distance_km'] > 0) & (summary_df['Duration_s'] > 0)\n",
    "        summary_df.loc[valid_pace_mask, 'Pace (min/km)'] = \\\n",
    "            (summary_df.loc[valid_pace_mask, 'Duration_s'] / 60) / summary_df.loc[valid_pace_mask, 'Distance_km']\n",
    "\n",
    "    # --- Calculations ---\n",
    "    total_runs = len(summary_df)\n",
    "    total_distance_km = summary_df['Distance_km'].sum()\n",
    "    total_duration_s = summary_df['Duration_s'].sum()\n",
    "    total_duration_hours = total_duration_s / 3600\n",
    "    total_calories = summary_df['Calories'].sum()\n",
    "    avg_distance = summary_df['Distance_km'].mean()\n",
    "    avg_pace = summary_df['Pace (min/km)'].mean()\n",
    "    \n",
    "    # Find longest/fastest run only if data is valid\n",
    "    longest_run = summary_df.loc[summary_df['Distance_km'].idxmax()] if summary_df['Distance_km'].notna().any() and summary_df['Distance_km'].sum() > 0 else None\n",
    "    fastest_run = summary_df.loc[summary_df['Pace (min/km)'].idxmin()] if summary_df['Pace (min/km)'].notna().any() else None\n",
    "\n",
    "    # --- Print Summary ---\n",
    "    print(f\"\\nTotal Runs in Period: {total_runs}\")\n",
    "    print(f\"Total Mileage: {total_distance_km:.2f} km\")\n",
    "    print(f\"Total Time Spent Running: {total_duration_hours:.2f} hours\")\n",
    "    print(f\"Total Calories Burned: {total_calories:,.0f} kcal\")\n",
    "    print(\"-\" * 25)\n",
    "    print(f\"Average Distance per Run: {avg_distance:.2f} km\")\n",
    "    print(f\"Overall Average Pace: {avg_pace:.2f} min/km\")\n",
    "\n",
    "else:\n",
    "    print(\"No data available in the selected date range to calculate statistics.\")"
   ]
  },
  {
   "cell_type": "code",
   "execution_count": 32,
   "id": "67e02cb4",
   "metadata": {},
   "outputs": [
    {
     "name": "stdout",
     "output_type": "stream",
     "text": [
      "Weekly summary prepared for plotting.\n",
      "Pace calculated for 55 out of 55 runs.\n"
     ]
    },
    {
     "data": {
      "text/html": [
       "<div>\n",
       "<style scoped>\n",
       "    .dataframe tbody tr th:only-of-type {\n",
       "        vertical-align: middle;\n",
       "    }\n",
       "\n",
       "    .dataframe tbody tr th {\n",
       "        vertical-align: top;\n",
       "    }\n",
       "\n",
       "    .dataframe thead th {\n",
       "        text-align: right;\n",
       "    }\n",
       "</style>\n",
       "<table border=\"1\" class=\"dataframe\">\n",
       "  <thead>\n",
       "    <tr style=\"text-align: right;\">\n",
       "      <th></th>\n",
       "      <th>Distance_km</th>\n",
       "      <th>Duration_s</th>\n",
       "      <th>Training Load (HR)</th>\n",
       "      <th>Training Load (Pace)</th>\n",
       "      <th>Run Count</th>\n",
       "      <th>Avg Pace (min/km)</th>\n",
       "    </tr>\n",
       "    <tr>\n",
       "      <th>Activity Date</th>\n",
       "      <th></th>\n",
       "      <th></th>\n",
       "      <th></th>\n",
       "      <th></th>\n",
       "      <th></th>\n",
       "      <th></th>\n",
       "    </tr>\n",
       "  </thead>\n",
       "  <tbody>\n",
       "    <tr>\n",
       "      <th>2024-12-30 00:00:00+00:00</th>\n",
       "      <td>25.32</td>\n",
       "      <td>9649</td>\n",
       "      <td>535552.25</td>\n",
       "      <td>420.69</td>\n",
       "      <td>4</td>\n",
       "      <td>6.351369</td>\n",
       "    </tr>\n",
       "    <tr>\n",
       "      <th>2025-01-06 00:00:00+00:00</th>\n",
       "      <td>5.01</td>\n",
       "      <td>1649</td>\n",
       "      <td>97910.63</td>\n",
       "      <td>85.37</td>\n",
       "      <td>1</td>\n",
       "      <td>5.485695</td>\n",
       "    </tr>\n",
       "    <tr>\n",
       "      <th>2025-01-13 00:00:00+00:00</th>\n",
       "      <td>0.00</td>\n",
       "      <td>0</td>\n",
       "      <td>0.00</td>\n",
       "      <td>0.00</td>\n",
       "      <td>0</td>\n",
       "      <td>NaN</td>\n",
       "    </tr>\n",
       "    <tr>\n",
       "      <th>2025-01-20 00:00:00+00:00</th>\n",
       "      <td>24.69</td>\n",
       "      <td>9047</td>\n",
       "      <td>532108.73</td>\n",
       "      <td>435.71</td>\n",
       "      <td>3</td>\n",
       "      <td>6.107061</td>\n",
       "    </tr>\n",
       "    <tr>\n",
       "      <th>2025-01-27 00:00:00+00:00</th>\n",
       "      <td>34.03</td>\n",
       "      <td>12731</td>\n",
       "      <td>689140.80</td>\n",
       "      <td>577.01</td>\n",
       "      <td>4</td>\n",
       "      <td>6.235185</td>\n",
       "    </tr>\n",
       "  </tbody>\n",
       "</table>\n",
       "</div>"
      ],
      "text/plain": [
       "                           Distance_km  Duration_s  Training Load (HR)  \\\n",
       "Activity Date                                                            \n",
       "2024-12-30 00:00:00+00:00        25.32        9649           535552.25   \n",
       "2025-01-06 00:00:00+00:00         5.01        1649            97910.63   \n",
       "2025-01-13 00:00:00+00:00         0.00           0                0.00   \n",
       "2025-01-20 00:00:00+00:00        24.69        9047           532108.73   \n",
       "2025-01-27 00:00:00+00:00        34.03       12731           689140.80   \n",
       "\n",
       "                           Training Load (Pace)  Run Count  Avg Pace (min/km)  \n",
       "Activity Date                                                                  \n",
       "2024-12-30 00:00:00+00:00                420.69          4           6.351369  \n",
       "2025-01-06 00:00:00+00:00                 85.37          1           5.485695  \n",
       "2025-01-13 00:00:00+00:00                  0.00          0                NaN  \n",
       "2025-01-20 00:00:00+00:00                435.71          3           6.107061  \n",
       "2025-01-27 00:00:00+00:00                577.01          4           6.235185  "
      ]
     },
     "metadata": {},
     "output_type": "display_data"
    }
   ],
   "source": [
    "# --- 9. Time Series Analysis - Data Preparation ---\n",
    "# Set plot style\n",
    "sns.set_style(\"whitegrid\")\n",
    "plt.rcParams['figure.figsize'] = (15, 8)\n",
    "\n",
    "# Prepare a dataframe for time series analysis\n",
    "ts_df = filtered_df.copy()\n",
    "\n",
    "# Calculate Pace for plotting, ensuring both distance and duration are valid\n",
    "ts_df['Pace (min/km)'] = np.nan\n",
    "if 'Distance_km' in ts_df.columns and 'Duration_s' in ts_df.columns:\n",
    "    valid_pace_mask = (ts_df['Distance_km'] > 0) & (ts_df['Duration_s'] > 0)\n",
    "    ts_df.loc[valid_pace_mask, 'Pace (min/km)'] = \\\n",
    "        (ts_df.loc[valid_pace_mask, 'Duration_s'] / 60) / ts_df.loc[valid_pace_mask, 'Distance_km']\n",
    "else:\n",
    "    print(\"Warning: 'Distance_km' or 'Duration_s' not found. Cannot calculate pace for plotting.\")\n",
    "\n",
    "# Set Activity Date as the index for resampling\n",
    "ts_df.set_index('Activity Date', inplace=True)\n",
    "\n",
    "# Create weekly summaries for plotting training load and volume\n",
    "# 'W-Mon' groups data into weeks starting on Monday\n",
    "weekly_summary = ts_df.resample('W-Mon').agg({\n",
    "    'Distance_km': 'sum',\n",
    "    'Duration_s': 'sum',\n",
    "    'Training Load (HR)': 'sum',\n",
    "    'Training Load (Pace)': 'sum',\n",
    "    'Activity ID': 'count' # Get number of runs per week\n",
    "}).rename(columns={'Activity ID': 'Run Count'})\n",
    "\n",
    "weekly_summary['Avg Pace (min/km)'] = np.nan\n",
    "valid_weekly_pace_mask = (weekly_summary['Distance_km'] > 0) & (weekly_summary['Duration_s'] > 0)\n",
    "if valid_weekly_pace_mask.any():\n",
    "    weekly_summary.loc[valid_weekly_pace_mask, 'Avg Pace (min/km)'] = \\\n",
    "        (weekly_summary.loc[valid_weekly_pace_mask, 'Duration_s'] / 60) / weekly_summary.loc[valid_weekly_pace_mask, 'Distance_km']\n",
    "\n",
    "print(\"Weekly summary prepared for plotting.\")\n",
    "if 'Pace (min/km)' in ts_df.columns:\n",
    "    print(f\"Pace calculated for {ts_df['Pace (min/km)'].notna().sum()} out of {len(ts_df)} runs.\")\n",
    "display(weekly_summary.head())"
   ]
  },
  {
   "cell_type": "code",
   "execution_count": 28,
   "id": "6ef14f77",
   "metadata": {},
   "outputs": [
    {
     "data": {
      "image/png": "[encoded data removed]",
      "text/plain": [
       "<Figure size 1800x600 with 1 Axes>"
      ]
     },
     "metadata": {},
     "output_type": "display_data"
    },
    {
     "name": "stderr",
     "output_type": "stream",
     "text": [
      "/home/agust/miniconda3/envs/marathon-data/lib/python3.13/site-packages/pandas/plotting/_matplotlib/core.py:981: UserWarning: This axis already has a converter set and is updating to a potentially incompatible converter\n",
      "  return ax.plot(*args, **kwds)\n"
     ]
    },
    {
     "data": {
      "image/png": "[encoded data removed]",
      "text/plain": [
       "<Figure size 1800x600 with 1 Axes>"
      ]
     },
     "metadata": {},
     "output_type": "display_data"
    },
    {
     "data": {
      "image/png": "[encoded data removed]",
      "text/plain": [
       "<Figure size 1800x600 with 1 Axes>"
      ]
     },
     "metadata": {},
     "output_type": "display_data"
    },
    {
     "data": {
      "image/png": "[encoded data removed]",
      "text/plain": [
       "<Figure size 1800x600 with 1 Axes>"
      ]
     },
     "metadata": {},
     "output_type": "display_data"
    }
   ],
   "source": [
    "# --- 10. Time Series Analysis - Visualizations ---\n",
    "\n",
    "# By creating separate figures for each plot, we avoid the x-axis conflict \n",
    "# between bar charts and line/scatter plots.\n",
    "\n",
    "# --- Plot 1: Weekly Running Volume (Distance) ---\n",
    "plt.figure(figsize=(18, 6))\n",
    "ax1 = weekly_summary['Distance_km'].plot(kind='bar', color=sns.color_palette(\"viridis\", 1)[0], alpha=0.8)\n",
    "ax1.set_title('Weekly Running Volume', fontsize=16)\n",
    "ax1.set_ylabel('Distance (km)', fontsize=12)\n",
    "ax1.set_xlabel('Week', fontsize=12)\n",
    "ax1.tick_params(axis='x', labelrotation=45)\n",
    "ax1.xaxis.set_major_formatter(mdates.DateFormatter('%Y-%m-%d'))\n",
    "plt.tight_layout()\n",
    "plt.show()\n",
    "\n",
    "\n",
    "# --- Plot 2: Pace of Each Run ---\n",
    "plt.figure(figsize=(18, 6))\n",
    "ax2 = sns.scatterplot(data=ts_df, x=ts_df.index, y='Pace (min/km)', label='Pace of Individual Run', alpha=0.7)\n",
    "# Add a rolling average to see the trend\n",
    "ts_df['Pace (min/km)'].rolling('14D').mean().plot(ax=ax2, color='red', linestyle='--', label='14-Day Rolling Avg Pace')\n",
    "# Add weekly average pace to the plot\n",
    "if 'Avg Pace (min/km)' in weekly_summary.columns:\n",
    "    weekly_summary['Avg Pace (min/km)'].plot(ax=ax2, color='purple', linestyle='-', marker='o', label='Weekly Avg Pace')\n",
    "ax2.set_title('Pace per Run and Trend', fontsize=16)\n",
    "ax2.set_ylabel('Pace (min/km)', fontsize=12)\n",
    "ax2.set_xlabel('Date', fontsize=12)\n",
    "ax2.invert_yaxis() # Lower pace is better, so we flip the axis\n",
    "ax2.legend()\n",
    "plt.tight_layout()\n",
    "plt.show()\n",
    "\n",
    "\n",
    "# --- Plot 3: Weekly Training Load (Heart Rate Based) ---\n",
    "plt.figure(figsize=(18, 6))\n",
    "ax3 = weekly_summary['Training Load (HR)'].plot(kind='bar', color=sns.color_palette(\"plasma\", 1)[0], alpha=0.8, label='Weekly TRIMP (HR)')\n",
    "ax3.set_title('Weekly Training Load (from Heart Rate)', fontsize=16)\n",
    "ax3.set_ylabel('Training Load (TRIMP)', fontsize=12)\n",
    "ax3.set_xlabel('Week', fontsize=12)\n",
    "ax3.tick_params(axis='x', labelrotation=45)\n",
    "ax3.xaxis.set_major_formatter(mdates.DateFormatter('%Y-%m-%d'))\n",
    "plt.tight_layout()\n",
    "plt.show()\n",
    "\n",
    "\n",
    "# --- Heart Rate Analysis ---\n",
    "# This plot was already separate and will continue to work as expected.\n",
    "if 'Avg HR' in ts_df.columns and ts_df['Avg HR'].notna().any():\n",
    "    plt.figure(figsize=(18, 6))\n",
    "    sns.scatterplot(data=ts_df, x=ts_df.index, y='Avg HR', hue='Pace (min/km)', palette='coolwarm', size='Distance_km', sizes=(20, 200))\n",
    "    plt.title('Average Heart Rate per Run', fontsize=16)\n",
    "    plt.ylabel('Average HR (bpm)', fontsize=12)\n",
    "    plt.xlabel('Date', fontsize=12)\n",
    "    plt.legend(title='Pace (min/km)', bbox_to_anchor=(1.05, 1), loc='upper left')\n",
    "    plt.tight_layout()\n",
    "    plt.show()"
   ]
  },
  {
   "cell_type": "code",
   "execution_count": null,
   "id": "cfaf742c",
   "metadata": {},
   "outputs": [],
   "source": []
  }
 ],
 "metadata": {
  "kernelspec": {
   "display_name": "marathon-data",
   "language": "python",
   "name": "python3"
  },
  "language_info": {
   "codemirror_mode": {
    "name": "ipython",
    "version": 3
   },
   "file_extension": ".py",
   "mimetype": "text/x-python",
   "name": "python",
   "nbconvert_exporter": "python",
   "pygments_lexer": "ipython3",
   "version": "3.13.2"
  }
 },
 "nbformat": 4,
 "nbformat_minor": 5
}
